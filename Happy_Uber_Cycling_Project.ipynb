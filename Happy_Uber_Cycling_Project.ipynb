{
 "cells": [
  {
   "cell_type": "markdown",
   "id": "27fabd65",
   "metadata": {},
   "source": [
    "# Project Scope "
   ]
  },
  {
   "cell_type": "markdown",
   "id": "2262f512",
   "metadata": {},
   "source": [
    "### Project Scope and Plan\n",
    "\n",
    "In July 2019, the Department for Transport released data on the type and number of journeys within\n",
    "the United Kingdom per year. The annual numbers of car journeys consistently climbed from 2015 to\n",
    "2018, where it reached a nine-year high of 986 trips per household per year [1]. A noteworthy 75% of\n",
    "UK residents aged 17 and above possessed driver's licences, while 76% of households owned a\n",
    "minimum of one car, and 77% of the total distance travelled each year was by car.\n",
    "\n",
    "The growing congestion resulting from these statistics prompted a need for considering alternative\n",
    "transportation methods . As a result, the Mayor of London and the London Assembly introduced\n",
    "the Mayor's Transport Strategy in 2018, focusing on three primary objectives:\n",
    "\n",
    "- Promoting Healthy Streets & Healthy People\n",
    "- Enhancing the Public Transport Experience\n",
    "- Developing New Homes and Jobs"
   ]
  },
  {
   "cell_type": "markdown",
   "id": "6875c8d8",
   "metadata": {},
   "source": [
    "### Objectives\n",
    "\n",
    "#### How can we increase the uptake of cycling in London?\n",
    "- Expanding cycling infrastructure so residents live within 400m of the cycling networks will increase the number of journeys completed by bike\n",
    "- Separating bike lanes from main roads, cars and large vehicles will make cyclists feel safer and thus increase the numbers of journeys completed by bike\n",
    "- Having a sustainable availability and distribution of safe and affordable hire bikes in London will increase the numbers of journeys completed by bike\n",
    "\n",
    "#### What are the main factors that determine whether people choose to cycle?\n",
    "- More journeys are completed by bike in dry weather than rain\n",
    "- More journeys are completed by bike in the summer months than in the winter months\n",
    "- The time of day has an impact on the number of journeys completed by bike\n",
    "- More journeys are completed by bike in central London than outer London as journeys are typically shorter\n",
    "\n",
    "#### What are the demographics of cyclists in these cities, and are there any underrepresentedgroups that can be engaged with to increase the uptake of cycling as a mode of transport?\n",
    "- The majority of journeys completed by bike in London are completed within commuting hours\n",
    "- Residents of ‘deprived’ areas of London complete fewer journeys on bike than those in ‘wealthy’ areas\n",
    "\n",
    "#### What interventions and changes to the transport network have had the most impact on cycling engagement?"
   ]
  },
  {
   "cell_type": "markdown",
   "id": "1bf74325",
   "metadata": {},
   "source": [
    "## 1. Prepare the Workstation"
   ]
  },
  {
   "cell_type": "code",
   "execution_count": 1,
   "id": "b83df119",
   "metadata": {},
   "outputs": [
    {
     "name": "stdout",
     "output_type": "stream",
     "text": [
      "Requirement already satisfied: pandas in /Users/b23/anaconda3/lib/python3.10/site-packages (2.1.2)\n",
      "Requirement already satisfied: pytz>=2020.1 in /Users/b23/anaconda3/lib/python3.10/site-packages (from pandas) (2023.3.post1)\n",
      "Requirement already satisfied: numpy<2,>=1.22.4 in /Users/b23/anaconda3/lib/python3.10/site-packages (from pandas) (1.26.1)\n",
      "Requirement already satisfied: tzdata>=2022.1 in /Users/b23/anaconda3/lib/python3.10/site-packages (from pandas) (2023.3)\n",
      "Requirement already satisfied: python-dateutil>=2.8.2 in /Users/b23/anaconda3/lib/python3.10/site-packages (from pandas) (2.8.2)\n",
      "Requirement already satisfied: six>=1.5 in /Users/b23/anaconda3/lib/python3.10/site-packages (from python-dateutil>=2.8.2->pandas) (1.16.0)\n",
      "Requirement already satisfied: matplotlib in /Users/b23/anaconda3/lib/python3.10/site-packages (3.8.0)\n",
      "Requirement already satisfied: seaborn in /Users/b23/anaconda3/lib/python3.10/site-packages (0.13.0)\n",
      "Requirement already satisfied: contourpy>=1.0.1 in /Users/b23/anaconda3/lib/python3.10/site-packages (from matplotlib) (1.1.1)\n",
      "Requirement already satisfied: packaging>=20.0 in /Users/b23/anaconda3/lib/python3.10/site-packages (from matplotlib) (23.1)\n",
      "Requirement already satisfied: python-dateutil>=2.7 in /Users/b23/anaconda3/lib/python3.10/site-packages (from matplotlib) (2.8.2)\n",
      "Requirement already satisfied: fonttools>=4.22.0 in /Users/b23/anaconda3/lib/python3.10/site-packages (from matplotlib) (4.43.1)\n",
      "Requirement already satisfied: cycler>=0.10 in /Users/b23/anaconda3/lib/python3.10/site-packages (from matplotlib) (0.12.1)\n",
      "Requirement already satisfied: kiwisolver>=1.0.1 in /Users/b23/anaconda3/lib/python3.10/site-packages (from matplotlib) (1.4.5)\n",
      "Requirement already satisfied: numpy<2,>=1.21 in /Users/b23/anaconda3/lib/python3.10/site-packages (from matplotlib) (1.26.1)\n",
      "Requirement already satisfied: pyparsing>=2.3.1 in /Users/b23/anaconda3/lib/python3.10/site-packages (from matplotlib) (3.1.1)\n",
      "Requirement already satisfied: pillow>=6.2.0 in /Users/b23/anaconda3/lib/python3.10/site-packages (from matplotlib) (9.4.0)\n",
      "Requirement already satisfied: pandas>=1.2 in /Users/b23/anaconda3/lib/python3.10/site-packages (from seaborn) (2.1.2)\n",
      "Requirement already satisfied: pytz>=2020.1 in /Users/b23/anaconda3/lib/python3.10/site-packages (from pandas>=1.2->seaborn) (2023.3.post1)\n",
      "Requirement already satisfied: tzdata>=2022.1 in /Users/b23/anaconda3/lib/python3.10/site-packages (from pandas>=1.2->seaborn) (2023.3)\n",
      "Requirement already satisfied: six>=1.5 in /Users/b23/anaconda3/lib/python3.10/site-packages (from python-dateutil>=2.7->matplotlib) (1.16.0)\n",
      "Requirement already satisfied: conda in /Users/b23/anaconda3/lib/python3.10/site-packages (23.7.4)\n",
      "Requirement already satisfied: ruamel-yaml<0.18,>=0.11.14 in /Users/b23/anaconda3/lib/python3.10/site-packages (from conda) (0.17.21)\n",
      "Requirement already satisfied: tqdm>=4 in /Users/b23/anaconda3/lib/python3.10/site-packages (from conda) (4.65.0)\n",
      "Requirement already satisfied: boltons>=23.0.0 in /Users/b23/anaconda3/lib/python3.10/site-packages (from conda) (23.0.0)\n",
      "Requirement already satisfied: packaging in /Users/b23/anaconda3/lib/python3.10/site-packages (from conda) (23.1)\n",
      "Requirement already satisfied: pyopenssl>=16.2.0 in /Users/b23/anaconda3/lib/python3.10/site-packages (from conda) (23.2.0)\n",
      "Requirement already satisfied: toolz>=0.8.1 in /Users/b23/anaconda3/lib/python3.10/site-packages (from conda) (0.12.0)\n",
      "Requirement already satisfied: pluggy>=1.0.0 in /Users/b23/anaconda3/lib/python3.10/site-packages (from conda) (1.0.0)\n",
      "Requirement already satisfied: requests<3,>=2.27.0 in /Users/b23/anaconda3/lib/python3.10/site-packages (from conda) (2.31.0)\n",
      "Requirement already satisfied: pycosat>=0.6.3 in /Users/b23/anaconda3/lib/python3.10/site-packages (from conda) (0.6.4)\n",
      "Requirement already satisfied: setuptools>=60.0.0 in /Users/b23/anaconda3/lib/python3.10/site-packages (from conda) (65.6.3)\n",
      "Requirement already satisfied: conda-package-handling>=1.3.0 in /Users/b23/anaconda3/lib/python3.10/site-packages (from conda) (2.0.2)\n",
      "Requirement already satisfied: jsonpatch>=1.32 in /Users/b23/anaconda3/lib/python3.10/site-packages (from conda) (1.32)\n",
      "Requirement already satisfied: conda-package-streaming>=0.7.0 in /Users/b23/anaconda3/lib/python3.10/site-packages (from conda-package-handling>=1.3.0->conda) (0.7.0)\n",
      "Requirement already satisfied: jsonpointer>=1.9 in /Users/b23/anaconda3/lib/python3.10/site-packages (from jsonpatch>=1.32->conda) (2.1)\n",
      "Requirement already satisfied: cryptography!=40.0.0,!=40.0.1,<42,>=38.0.0 in /Users/b23/anaconda3/lib/python3.10/site-packages (from pyopenssl>=16.2.0->conda) (41.0.3)\n",
      "Requirement already satisfied: urllib3<3,>=1.21.1 in /Users/b23/anaconda3/lib/python3.10/site-packages (from requests<3,>=2.27.0->conda) (1.26.16)\n",
      "Requirement already satisfied: charset-normalizer<4,>=2 in /Users/b23/anaconda3/lib/python3.10/site-packages (from requests<3,>=2.27.0->conda) (2.0.4)\n",
      "Requirement already satisfied: idna<4,>=2.5 in /Users/b23/anaconda3/lib/python3.10/site-packages (from requests<3,>=2.27.0->conda) (3.4)\n",
      "Requirement already satisfied: certifi>=2017.4.17 in /Users/b23/anaconda3/lib/python3.10/site-packages (from requests<3,>=2.27.0->conda) (2023.7.22)\n",
      "Requirement already satisfied: ruamel.yaml.clib>=0.2.6 in /Users/b23/anaconda3/lib/python3.10/site-packages (from ruamel-yaml<0.18,>=0.11.14->conda) (0.2.6)\n",
      "Requirement already satisfied: zstandard>=0.15 in /Users/b23/anaconda3/lib/python3.10/site-packages (from conda-package-streaming>=0.7.0->conda-package-handling>=1.3.0->conda) (0.19.0)\n",
      "Requirement already satisfied: cffi>=1.12 in /Users/b23/anaconda3/lib/python3.10/site-packages (from cryptography!=40.0.0,!=40.0.1,<42,>=38.0.0->pyopenssl>=16.2.0->conda) (1.15.1)\n",
      "Requirement already satisfied: pycparser in /Users/b23/anaconda3/lib/python3.10/site-packages (from cffi>=1.12->cryptography!=40.0.0,!=40.0.1,<42,>=38.0.0->pyopenssl>=16.2.0->conda) (2.21)\n",
      "Requirement already satisfied: openpyxl in /Users/b23/anaconda3/lib/python3.10/site-packages (3.1.2)\n",
      "Requirement already satisfied: et-xmlfile in /Users/b23/anaconda3/lib/python3.10/site-packages (from openpyxl) (1.1.0)\n"
     ]
    }
   ],
   "source": [
    "!pip install pandas\n",
    "!pip install matplotlib seaborn\n",
    "!pip install conda\n",
    "!pip install openpyxl"
   ]
  },
  {
   "cell_type": "code",
   "execution_count": 2,
   "id": "471b6cb1",
   "metadata": {},
   "outputs": [],
   "source": [
    "# Imports \n",
    "import pandas as pd\n",
    "import matplotlib.pyplot as plt\n",
    "import seaborn as sns"
   ]
  },
  {
   "cell_type": "code",
   "execution_count": 3,
   "id": "c5d79306",
   "metadata": {},
   "outputs": [
    {
     "name": "stderr",
     "output_type": "stream",
     "text": [
      "/var/folders/cn/47qy272s11q7_n4t9zj37np40000gn/T/ipykernel_9280/1662675493.py:2: DtypeWarning: Columns (0,1,2,3,4,5,6,7,8) have mixed types. Specify dtype option on import or set low_memory=False.\n",
      "  central_london = pd.read_csv('Central London.csv')\n",
      "/var/folders/cn/47qy272s11q7_n4t9zj37np40000gn/T/ipykernel_9280/1662675493.py:3: DtypeWarning: Columns (1,2,3,4,5,6,7) have mixed types. Specify dtype option on import or set low_memory=False.\n",
      "  inner_london = pd.read_csv('Inner London.csv')\n"
     ]
    }
   ],
   "source": [
    "# Load the data\n",
    "central_london = pd.read_csv('Central London.csv')\n",
    "inner_london = pd.read_csv('Inner London.csv')\n",
    "outer_london = pd.read_csv('Outer London.csv')\n",
    "biking_sites = pd.read_excel('Biking sites.xlsx')"
   ]
  },
  {
   "cell_type": "code",
   "execution_count": 4,
   "id": "396af9da",
   "metadata": {},
   "outputs": [
    {
     "data": {
      "text/html": [
       "<div>\n",
       "<style scoped>\n",
       "    .dataframe tbody tr th:only-of-type {\n",
       "        vertical-align: middle;\n",
       "    }\n",
       "\n",
       "    .dataframe tbody tr th {\n",
       "        vertical-align: top;\n",
       "    }\n",
       "\n",
       "    .dataframe thead th {\n",
       "        text-align: right;\n",
       "    }\n",
       "</style>\n",
       "<table border=\"1\" class=\"dataframe\">\n",
       "  <thead>\n",
       "    <tr style=\"text-align: right;\">\n",
       "      <th></th>\n",
       "      <th>UnqID</th>\n",
       "      <th>ProgID</th>\n",
       "      <th>SurveyDescription</th>\n",
       "      <th>Easting</th>\n",
       "      <th>Northing</th>\n",
       "      <th>Location</th>\n",
       "      <th>Borough</th>\n",
       "      <th>Functional cycling area</th>\n",
       "    </tr>\n",
       "  </thead>\n",
       "  <tbody>\n",
       "    <tr>\n",
       "      <th>0</th>\n",
       "      <td>CENCY001</td>\n",
       "      <td>CENCY</td>\n",
       "      <td>Central area cycle surveys</td>\n",
       "      <td>530251.49</td>\n",
       "      <td>178742.45</td>\n",
       "      <td>Millbank (south of Thorney Street)</td>\n",
       "      <td>Westminster</td>\n",
       "      <td>Central</td>\n",
       "    </tr>\n",
       "    <tr>\n",
       "      <th>1</th>\n",
       "      <td>CENCY002</td>\n",
       "      <td>CENCY</td>\n",
       "      <td>Central area cycle surveys</td>\n",
       "      <td>533362.68</td>\n",
       "      <td>181824.45</td>\n",
       "      <td>Bishopsgate</td>\n",
       "      <td>City of London</td>\n",
       "      <td>Central</td>\n",
       "    </tr>\n",
       "    <tr>\n",
       "      <th>2</th>\n",
       "      <td>CENCY003</td>\n",
       "      <td>CENCY</td>\n",
       "      <td>Central area cycle surveys</td>\n",
       "      <td>532334.06</td>\n",
       "      <td>180520.37</td>\n",
       "      <td>Southwark Bridge</td>\n",
       "      <td>Southwark</td>\n",
       "      <td>Central</td>\n",
       "    </tr>\n",
       "    <tr>\n",
       "      <th>3</th>\n",
       "      <td>CENCY004</td>\n",
       "      <td>CENCY</td>\n",
       "      <td>Central area cycle surveys</td>\n",
       "      <td>532052.50</td>\n",
       "      <td>179677.64</td>\n",
       "      <td>Southwark Bridge Road</td>\n",
       "      <td>Southwark</td>\n",
       "      <td>Central</td>\n",
       "    </tr>\n",
       "    <tr>\n",
       "      <th>4</th>\n",
       "      <td>CENCY005</td>\n",
       "      <td>CENCY</td>\n",
       "      <td>Central area cycle surveys</td>\n",
       "      <td>533031.59</td>\n",
       "      <td>180213.46</td>\n",
       "      <td>Tooley Street</td>\n",
       "      <td>Southwark</td>\n",
       "      <td>Central</td>\n",
       "    </tr>\n",
       "  </tbody>\n",
       "</table>\n",
       "</div>"
      ],
      "text/plain": [
       "      UnqID ProgID           SurveyDescription    Easting   Northing  \\\n",
       "0  CENCY001  CENCY  Central area cycle surveys  530251.49  178742.45   \n",
       "1  CENCY002  CENCY  Central area cycle surveys  533362.68  181824.45   \n",
       "2  CENCY003  CENCY  Central area cycle surveys  532334.06  180520.37   \n",
       "3  CENCY004  CENCY  Central area cycle surveys  532052.50  179677.64   \n",
       "4  CENCY005  CENCY  Central area cycle surveys  533031.59  180213.46   \n",
       "\n",
       "                             Location         Borough Functional cycling area  \n",
       "0  Millbank (south of Thorney Street)     Westminster                 Central  \n",
       "1                         Bishopsgate  City of London                 Central  \n",
       "2                    Southwark Bridge       Southwark                 Central  \n",
       "3               Southwark Bridge Road       Southwark                 Central  \n",
       "4                       Tooley Street       Southwark                 Central  "
      ]
     },
     "execution_count": 4,
     "metadata": {},
     "output_type": "execute_result"
    }
   ],
   "source": [
    "# view the data\n",
    "biking_sites.head()"
   ]
  },
  {
   "cell_type": "code",
   "execution_count": 5,
   "id": "29680d9b",
   "metadata": {},
   "outputs": [
    {
     "data": {
      "text/html": [
       "<div>\n",
       "<style scoped>\n",
       "    .dataframe tbody tr th:only-of-type {\n",
       "        vertical-align: middle;\n",
       "    }\n",
       "\n",
       "    .dataframe tbody tr th {\n",
       "        vertical-align: top;\n",
       "    }\n",
       "\n",
       "    .dataframe thead th {\n",
       "        text-align: right;\n",
       "    }\n",
       "</style>\n",
       "<table border=\"1\" class=\"dataframe\">\n",
       "  <thead>\n",
       "    <tr style=\"text-align: right;\">\n",
       "      <th></th>\n",
       "      <th>Survey wave (calendar quarter)</th>\n",
       "      <th>Equivalent financial quarter</th>\n",
       "      <th>Site ID</th>\n",
       "      <th>Location</th>\n",
       "      <th>Survey date</th>\n",
       "      <th>Weather</th>\n",
       "      <th>Time</th>\n",
       "      <th>Period</th>\n",
       "      <th>Direction</th>\n",
       "      <th>Start hour</th>\n",
       "      <th>Start minute</th>\n",
       "      <th>Number of private cycles</th>\n",
       "      <th>Number of cycle hire bikes</th>\n",
       "      <th>Total cycles</th>\n",
       "      <th>Unnamed: 14</th>\n",
       "      <th>Unnamed: 15</th>\n",
       "      <th>Unnamed: 16</th>\n",
       "    </tr>\n",
       "  </thead>\n",
       "  <tbody>\n",
       "    <tr>\n",
       "      <th>0</th>\n",
       "      <td>2014 Q1 (January-March)</td>\n",
       "      <td>2013-14 Q4</td>\n",
       "      <td>CENCY001</td>\n",
       "      <td>Millbank (south of Thorney Street)</td>\n",
       "      <td>ven, 24/01/14</td>\n",
       "      <td>Dry</td>\n",
       "      <td>0600 - 0615</td>\n",
       "      <td>Early Morning (06:00-07:00)</td>\n",
       "      <td>Northbound</td>\n",
       "      <td>6.0</td>\n",
       "      <td>0.0</td>\n",
       "      <td>0.0</td>\n",
       "      <td>0.0</td>\n",
       "      <td>0.0</td>\n",
       "      <td>NaN</td>\n",
       "      <td>NaN</td>\n",
       "      <td>NaN</td>\n",
       "    </tr>\n",
       "    <tr>\n",
       "      <th>1</th>\n",
       "      <td>2014 Q1 (January-March)</td>\n",
       "      <td>2013-14 Q4</td>\n",
       "      <td>CENCY001</td>\n",
       "      <td>Millbank (south of Thorney Street)</td>\n",
       "      <td>ven, 24/01/14</td>\n",
       "      <td>Dry</td>\n",
       "      <td>0615 - 0630</td>\n",
       "      <td>Early Morning (06:00-07:00)</td>\n",
       "      <td>Northbound</td>\n",
       "      <td>6.0</td>\n",
       "      <td>15.0</td>\n",
       "      <td>15.0</td>\n",
       "      <td>0.0</td>\n",
       "      <td>15.0</td>\n",
       "      <td>NaN</td>\n",
       "      <td>NaN</td>\n",
       "      <td>NaN</td>\n",
       "    </tr>\n",
       "    <tr>\n",
       "      <th>2</th>\n",
       "      <td>2014 Q1 (January-March)</td>\n",
       "      <td>2013-14 Q4</td>\n",
       "      <td>CENCY001</td>\n",
       "      <td>Millbank (south of Thorney Street)</td>\n",
       "      <td>ven, 24/01/14</td>\n",
       "      <td>Dry</td>\n",
       "      <td>0630 - 0645</td>\n",
       "      <td>Early Morning (06:00-07:00)</td>\n",
       "      <td>Northbound</td>\n",
       "      <td>6.0</td>\n",
       "      <td>30.0</td>\n",
       "      <td>35.0</td>\n",
       "      <td>0.0</td>\n",
       "      <td>35.0</td>\n",
       "      <td>NaN</td>\n",
       "      <td>NaN</td>\n",
       "      <td>NaN</td>\n",
       "    </tr>\n",
       "    <tr>\n",
       "      <th>3</th>\n",
       "      <td>2014 Q1 (January-March)</td>\n",
       "      <td>2013-14 Q4</td>\n",
       "      <td>CENCY001</td>\n",
       "      <td>Millbank (south of Thorney Street)</td>\n",
       "      <td>ven, 24/01/14</td>\n",
       "      <td>Dry</td>\n",
       "      <td>0645 - 0700</td>\n",
       "      <td>Early Morning (06:00-07:00)</td>\n",
       "      <td>Northbound</td>\n",
       "      <td>6.0</td>\n",
       "      <td>45.0</td>\n",
       "      <td>59.0</td>\n",
       "      <td>2.0</td>\n",
       "      <td>61.0</td>\n",
       "      <td>NaN</td>\n",
       "      <td>NaN</td>\n",
       "      <td>NaN</td>\n",
       "    </tr>\n",
       "    <tr>\n",
       "      <th>4</th>\n",
       "      <td>2014 Q1 (January-March)</td>\n",
       "      <td>2013-14 Q4</td>\n",
       "      <td>CENCY001</td>\n",
       "      <td>Millbank (south of Thorney Street)</td>\n",
       "      <td>ven, 24/01/14</td>\n",
       "      <td>Dry</td>\n",
       "      <td>0700 - 0715</td>\n",
       "      <td>AM peak (07:00-10:00)</td>\n",
       "      <td>Northbound</td>\n",
       "      <td>7.0</td>\n",
       "      <td>0.0</td>\n",
       "      <td>73.0</td>\n",
       "      <td>0.0</td>\n",
       "      <td>73.0</td>\n",
       "      <td>NaN</td>\n",
       "      <td>NaN</td>\n",
       "      <td>NaN</td>\n",
       "    </tr>\n",
       "  </tbody>\n",
       "</table>\n",
       "</div>"
      ],
      "text/plain": [
       "  Survey wave (calendar quarter) Equivalent financial quarter   Site ID  \\\n",
       "0        2014 Q1 (January-March)                   2013-14 Q4  CENCY001   \n",
       "1        2014 Q1 (January-March)                   2013-14 Q4  CENCY001   \n",
       "2        2014 Q1 (January-March)                   2013-14 Q4  CENCY001   \n",
       "3        2014 Q1 (January-March)                   2013-14 Q4  CENCY001   \n",
       "4        2014 Q1 (January-March)                   2013-14 Q4  CENCY001   \n",
       "\n",
       "                             Location    Survey date Weather         Time  \\\n",
       "0  Millbank (south of Thorney Street)  ven, 24/01/14     Dry  0600 - 0615   \n",
       "1  Millbank (south of Thorney Street)  ven, 24/01/14     Dry  0615 - 0630   \n",
       "2  Millbank (south of Thorney Street)  ven, 24/01/14     Dry  0630 - 0645   \n",
       "3  Millbank (south of Thorney Street)  ven, 24/01/14     Dry  0645 - 0700   \n",
       "4  Millbank (south of Thorney Street)  ven, 24/01/14     Dry  0700 - 0715   \n",
       "\n",
       "                        Period   Direction  Start hour  Start minute  \\\n",
       "0  Early Morning (06:00-07:00)  Northbound         6.0           0.0   \n",
       "1  Early Morning (06:00-07:00)  Northbound         6.0          15.0   \n",
       "2  Early Morning (06:00-07:00)  Northbound         6.0          30.0   \n",
       "3  Early Morning (06:00-07:00)  Northbound         6.0          45.0   \n",
       "4        AM peak (07:00-10:00)  Northbound         7.0           0.0   \n",
       "\n",
       "   Number of private cycles  Number of cycle hire bikes  Total cycles  \\\n",
       "0                       0.0                         0.0           0.0   \n",
       "1                      15.0                         0.0          15.0   \n",
       "2                      35.0                         0.0          35.0   \n",
       "3                      59.0                         2.0          61.0   \n",
       "4                      73.0                         0.0          73.0   \n",
       "\n",
       "   Unnamed: 14  Unnamed: 15  Unnamed: 16  \n",
       "0          NaN          NaN          NaN  \n",
       "1          NaN          NaN          NaN  \n",
       "2          NaN          NaN          NaN  \n",
       "3          NaN          NaN          NaN  \n",
       "4          NaN          NaN          NaN  "
      ]
     },
     "execution_count": 5,
     "metadata": {},
     "output_type": "execute_result"
    }
   ],
   "source": [
    "# View the data \n",
    "central_london.head()"
   ]
  },
  {
   "cell_type": "code",
   "execution_count": 6,
   "id": "f7cf79a8",
   "metadata": {},
   "outputs": [
    {
     "data": {
      "text/html": [
       "<div>\n",
       "<style scoped>\n",
       "    .dataframe tbody tr th:only-of-type {\n",
       "        vertical-align: middle;\n",
       "    }\n",
       "\n",
       "    .dataframe tbody tr th {\n",
       "        vertical-align: top;\n",
       "    }\n",
       "\n",
       "    .dataframe thead th {\n",
       "        text-align: right;\n",
       "    }\n",
       "</style>\n",
       "<table border=\"1\" class=\"dataframe\">\n",
       "  <thead>\n",
       "    <tr style=\"text-align: right;\">\n",
       "      <th></th>\n",
       "      <th>Survey wave (year)</th>\n",
       "      <th>Site ID</th>\n",
       "      <th>Location</th>\n",
       "      <th>Survey date</th>\n",
       "      <th>Weather</th>\n",
       "      <th>Time</th>\n",
       "      <th>Period</th>\n",
       "      <th>Direction</th>\n",
       "      <th>Start hour</th>\n",
       "      <th>Start minute</th>\n",
       "      <th>Number of private cycles</th>\n",
       "      <th>Number of cycle hire bikes</th>\n",
       "      <th>Total cycles</th>\n",
       "    </tr>\n",
       "  </thead>\n",
       "  <tbody>\n",
       "    <tr>\n",
       "      <th>0</th>\n",
       "      <td>2015.0</td>\n",
       "      <td>INNCY001</td>\n",
       "      <td>Grove Road</td>\n",
       "      <td>mer, 20/05/15</td>\n",
       "      <td>Dry</td>\n",
       "      <td>0600 - 0615</td>\n",
       "      <td>Early Morning (06:00-07:00)</td>\n",
       "      <td>Northbound</td>\n",
       "      <td>6.0</td>\n",
       "      <td>0.0</td>\n",
       "      <td>1.0</td>\n",
       "      <td>0.0</td>\n",
       "      <td>1.0</td>\n",
       "    </tr>\n",
       "    <tr>\n",
       "      <th>1</th>\n",
       "      <td>2015.0</td>\n",
       "      <td>INNCY001</td>\n",
       "      <td>Grove Road</td>\n",
       "      <td>mer, 20/05/15</td>\n",
       "      <td>Dry</td>\n",
       "      <td>0615 - 0630</td>\n",
       "      <td>Early Morning (06:00-07:00)</td>\n",
       "      <td>Northbound</td>\n",
       "      <td>6.0</td>\n",
       "      <td>15.0</td>\n",
       "      <td>2.0</td>\n",
       "      <td>0.0</td>\n",
       "      <td>2.0</td>\n",
       "    </tr>\n",
       "    <tr>\n",
       "      <th>2</th>\n",
       "      <td>2015.0</td>\n",
       "      <td>INNCY001</td>\n",
       "      <td>Grove Road</td>\n",
       "      <td>mer, 20/05/15</td>\n",
       "      <td>Dry</td>\n",
       "      <td>0630 - 0645</td>\n",
       "      <td>Early Morning (06:00-07:00)</td>\n",
       "      <td>Northbound</td>\n",
       "      <td>6.0</td>\n",
       "      <td>30.0</td>\n",
       "      <td>2.0</td>\n",
       "      <td>0.0</td>\n",
       "      <td>2.0</td>\n",
       "    </tr>\n",
       "    <tr>\n",
       "      <th>3</th>\n",
       "      <td>2015.0</td>\n",
       "      <td>INNCY001</td>\n",
       "      <td>Grove Road</td>\n",
       "      <td>mer, 20/05/15</td>\n",
       "      <td>Dry</td>\n",
       "      <td>0645 - 0700</td>\n",
       "      <td>Early Morning (06:00-07:00)</td>\n",
       "      <td>Northbound</td>\n",
       "      <td>6.0</td>\n",
       "      <td>45.0</td>\n",
       "      <td>4.0</td>\n",
       "      <td>0.0</td>\n",
       "      <td>4.0</td>\n",
       "    </tr>\n",
       "    <tr>\n",
       "      <th>4</th>\n",
       "      <td>2015.0</td>\n",
       "      <td>INNCY001</td>\n",
       "      <td>Grove Road</td>\n",
       "      <td>mer, 20/05/15</td>\n",
       "      <td>Dry</td>\n",
       "      <td>0700 - 0715</td>\n",
       "      <td>AM peak (07:00-10:00)</td>\n",
       "      <td>Northbound</td>\n",
       "      <td>7.0</td>\n",
       "      <td>0.0</td>\n",
       "      <td>4.0</td>\n",
       "      <td>0.0</td>\n",
       "      <td>4.0</td>\n",
       "    </tr>\n",
       "  </tbody>\n",
       "</table>\n",
       "</div>"
      ],
      "text/plain": [
       "   Survey wave (year)   Site ID    Location    Survey date Weather  \\\n",
       "0              2015.0  INNCY001  Grove Road  mer, 20/05/15     Dry   \n",
       "1              2015.0  INNCY001  Grove Road  mer, 20/05/15     Dry   \n",
       "2              2015.0  INNCY001  Grove Road  mer, 20/05/15     Dry   \n",
       "3              2015.0  INNCY001  Grove Road  mer, 20/05/15     Dry   \n",
       "4              2015.0  INNCY001  Grove Road  mer, 20/05/15     Dry   \n",
       "\n",
       "          Time                       Period   Direction  Start hour  \\\n",
       "0  0600 - 0615  Early Morning (06:00-07:00)  Northbound         6.0   \n",
       "1  0615 - 0630  Early Morning (06:00-07:00)  Northbound         6.0   \n",
       "2  0630 - 0645  Early Morning (06:00-07:00)  Northbound         6.0   \n",
       "3  0645 - 0700  Early Morning (06:00-07:00)  Northbound         6.0   \n",
       "4  0700 - 0715        AM peak (07:00-10:00)  Northbound         7.0   \n",
       "\n",
       "   Start minute  Number of private cycles  Number of cycle hire bikes  \\\n",
       "0           0.0                       1.0                         0.0   \n",
       "1          15.0                       2.0                         0.0   \n",
       "2          30.0                       2.0                         0.0   \n",
       "3          45.0                       4.0                         0.0   \n",
       "4           0.0                       4.0                         0.0   \n",
       "\n",
       "   Total cycles  \n",
       "0           1.0  \n",
       "1           2.0  \n",
       "2           2.0  \n",
       "3           4.0  \n",
       "4           4.0  "
      ]
     },
     "execution_count": 6,
     "metadata": {},
     "output_type": "execute_result"
    }
   ],
   "source": [
    "# view the data\n",
    "inner_london.head()"
   ]
  },
  {
   "cell_type": "code",
   "execution_count": 7,
   "id": "b9e556a5",
   "metadata": {},
   "outputs": [
    {
     "data": {
      "text/html": [
       "<div>\n",
       "<style scoped>\n",
       "    .dataframe tbody tr th:only-of-type {\n",
       "        vertical-align: middle;\n",
       "    }\n",
       "\n",
       "    .dataframe tbody tr th {\n",
       "        vertical-align: top;\n",
       "    }\n",
       "\n",
       "    .dataframe thead th {\n",
       "        text-align: right;\n",
       "    }\n",
       "</style>\n",
       "<table border=\"1\" class=\"dataframe\">\n",
       "  <thead>\n",
       "    <tr style=\"text-align: right;\">\n",
       "      <th></th>\n",
       "      <th>Survey wave (year)</th>\n",
       "      <th>Site ID</th>\n",
       "      <th>Location</th>\n",
       "      <th>Survey date</th>\n",
       "      <th>Weather</th>\n",
       "      <th>Time</th>\n",
       "      <th>Period</th>\n",
       "      <th>Direction</th>\n",
       "      <th>Start hour</th>\n",
       "      <th>Start minute</th>\n",
       "      <th>Number of male cycles</th>\n",
       "      <th>Number of female cycles</th>\n",
       "      <th>Number of unknown cycles</th>\n",
       "      <th>Total cycles</th>\n",
       "    </tr>\n",
       "  </thead>\n",
       "  <tbody>\n",
       "    <tr>\n",
       "      <th>0</th>\n",
       "      <td>2015</td>\n",
       "      <td>OUTCY001</td>\n",
       "      <td>High Road Leyton</td>\n",
       "      <td>ven, 26/06/15</td>\n",
       "      <td>Dry</td>\n",
       "      <td>0600 - 0615</td>\n",
       "      <td>Early Morning (06:00-07:00)</td>\n",
       "      <td>Northbound</td>\n",
       "      <td>6</td>\n",
       "      <td>0</td>\n",
       "      <td>2</td>\n",
       "      <td>1</td>\n",
       "      <td>0</td>\n",
       "      <td>3</td>\n",
       "    </tr>\n",
       "    <tr>\n",
       "      <th>1</th>\n",
       "      <td>2015</td>\n",
       "      <td>OUTCY001</td>\n",
       "      <td>High Road Leyton</td>\n",
       "      <td>ven, 26/06/15</td>\n",
       "      <td>Dry</td>\n",
       "      <td>0615 - 0630</td>\n",
       "      <td>Early Morning (06:00-07:00)</td>\n",
       "      <td>Northbound</td>\n",
       "      <td>6</td>\n",
       "      <td>15</td>\n",
       "      <td>3</td>\n",
       "      <td>0</td>\n",
       "      <td>0</td>\n",
       "      <td>3</td>\n",
       "    </tr>\n",
       "    <tr>\n",
       "      <th>2</th>\n",
       "      <td>2015</td>\n",
       "      <td>OUTCY001</td>\n",
       "      <td>High Road Leyton</td>\n",
       "      <td>ven, 26/06/15</td>\n",
       "      <td>Dry</td>\n",
       "      <td>0630 - 0645</td>\n",
       "      <td>Early Morning (06:00-07:00)</td>\n",
       "      <td>Northbound</td>\n",
       "      <td>6</td>\n",
       "      <td>30</td>\n",
       "      <td>2</td>\n",
       "      <td>0</td>\n",
       "      <td>0</td>\n",
       "      <td>2</td>\n",
       "    </tr>\n",
       "    <tr>\n",
       "      <th>3</th>\n",
       "      <td>2015</td>\n",
       "      <td>OUTCY001</td>\n",
       "      <td>High Road Leyton</td>\n",
       "      <td>ven, 26/06/15</td>\n",
       "      <td>Dry</td>\n",
       "      <td>0645 - 0700</td>\n",
       "      <td>Early Morning (06:00-07:00)</td>\n",
       "      <td>Northbound</td>\n",
       "      <td>6</td>\n",
       "      <td>45</td>\n",
       "      <td>4</td>\n",
       "      <td>0</td>\n",
       "      <td>0</td>\n",
       "      <td>4</td>\n",
       "    </tr>\n",
       "    <tr>\n",
       "      <th>4</th>\n",
       "      <td>2015</td>\n",
       "      <td>OUTCY001</td>\n",
       "      <td>High Road Leyton</td>\n",
       "      <td>ven, 26/06/15</td>\n",
       "      <td>Dry</td>\n",
       "      <td>0700 - 0715</td>\n",
       "      <td>AM peak (07:00-10:00)</td>\n",
       "      <td>Northbound</td>\n",
       "      <td>7</td>\n",
       "      <td>0</td>\n",
       "      <td>4</td>\n",
       "      <td>1</td>\n",
       "      <td>0</td>\n",
       "      <td>5</td>\n",
       "    </tr>\n",
       "  </tbody>\n",
       "</table>\n",
       "</div>"
      ],
      "text/plain": [
       "   Survey wave (year)   Site ID          Location    Survey date Weather  \\\n",
       "0                2015  OUTCY001  High Road Leyton  ven, 26/06/15     Dry   \n",
       "1                2015  OUTCY001  High Road Leyton  ven, 26/06/15     Dry   \n",
       "2                2015  OUTCY001  High Road Leyton  ven, 26/06/15     Dry   \n",
       "3                2015  OUTCY001  High Road Leyton  ven, 26/06/15     Dry   \n",
       "4                2015  OUTCY001  High Road Leyton  ven, 26/06/15     Dry   \n",
       "\n",
       "          Time                       Period   Direction  Start hour  \\\n",
       "0  0600 - 0615  Early Morning (06:00-07:00)  Northbound           6   \n",
       "1  0615 - 0630  Early Morning (06:00-07:00)  Northbound           6   \n",
       "2  0630 - 0645  Early Morning (06:00-07:00)  Northbound           6   \n",
       "3  0645 - 0700  Early Morning (06:00-07:00)  Northbound           6   \n",
       "4  0700 - 0715        AM peak (07:00-10:00)  Northbound           7   \n",
       "\n",
       "   Start minute  Number of male cycles  Number of female cycles  \\\n",
       "0             0                      2                        1   \n",
       "1            15                      3                        0   \n",
       "2            30                      2                        0   \n",
       "3            45                      4                        0   \n",
       "4             0                      4                        1   \n",
       "\n",
       "   Number of unknown cycles  Total cycles  \n",
       "0                         0             3  \n",
       "1                         0             3  \n",
       "2                         0             2  \n",
       "3                         0             4  \n",
       "4                         0             5  "
      ]
     },
     "execution_count": 7,
     "metadata": {},
     "output_type": "execute_result"
    }
   ],
   "source": [
    "# view the data\n",
    "outer_london.head()"
   ]
  },
  {
   "cell_type": "markdown",
   "id": "e5345a26",
   "metadata": {},
   "source": [
    "## 2. Data Cleaning & Exploration"
   ]
  },
  {
   "cell_type": "markdown",
   "id": "88a78b3e",
   "metadata": {},
   "source": [
    "##### Biking Sites"
   ]
  },
  {
   "cell_type": "code",
   "execution_count": 8,
   "id": "3236d603",
   "metadata": {
    "scrolled": true
   },
   "outputs": [
    {
     "name": "stdout",
     "output_type": "stream",
     "text": [
      "(2023, 8)\n",
      "Index(['UnqID', 'ProgID', 'SurveyDescription', 'Easting', 'Northing',\n",
      "       'Location', 'Borough', 'Functional cycling area'],\n",
      "      dtype='object')\n"
     ]
    }
   ],
   "source": [
    "# Determine the metadata of the data sets\n",
    "print(biking_sites.shape)\n",
    "print(biking_sites.columns)"
   ]
  },
  {
   "cell_type": "code",
   "execution_count": 16,
   "id": "d53f9993",
   "metadata": {},
   "outputs": [
    {
     "name": "stdout",
     "output_type": "stream",
     "text": [
      "<class 'pandas.core.frame.DataFrame'>\n",
      "RangeIndex: 2023 entries, 0 to 2022\n",
      "Data columns (total 8 columns):\n",
      " #   Column                   Non-Null Count  Dtype  \n",
      "---  ------                   --------------  -----  \n",
      " 0   UnqID                    2023 non-null   object \n",
      " 1   ProgID                   2023 non-null   object \n",
      " 2   SurveyDescription        2023 non-null   object \n",
      " 3   Easting                  2023 non-null   float64\n",
      " 4   Northing                 2023 non-null   float64\n",
      " 5   Location                 2023 non-null   object \n",
      " 6   Borough                  2023 non-null   object \n",
      " 7   Functional cycling area  2021 non-null   object \n",
      "dtypes: float64(2), object(6)\n",
      "memory usage: 126.6+ KB\n"
     ]
    }
   ],
   "source": [
    "biking_sites.info()"
   ]
  },
  {
   "cell_type": "code",
   "execution_count": 9,
   "id": "fc218766",
   "metadata": {},
   "outputs": [
    {
     "data": {
      "text/plain": [
       "UnqID                      0\n",
       "ProgID                     0\n",
       "SurveyDescription          0\n",
       "Easting                    0\n",
       "Northing                   0\n",
       "Location                   0\n",
       "Borough                    0\n",
       "Functional cycling area    2\n",
       "dtype: int64"
      ]
     },
     "execution_count": 9,
     "metadata": {},
     "output_type": "execute_result"
    }
   ],
   "source": [
    "# Missing Values for biking sites\n",
    "missing_values_biking_sites = biking_sites.isnull().sum()\n",
    "\n",
    "# Displaying the columns with missing values and their count\n",
    "missing_values_biking_sites"
   ]
  },
  {
   "cell_type": "markdown",
   "id": "1da97eed",
   "metadata": {},
   "source": [
    "##### Outer London"
   ]
  },
  {
   "cell_type": "code",
   "execution_count": 10,
   "id": "ccc89576",
   "metadata": {},
   "outputs": [
    {
     "name": "stdout",
     "output_type": "stream",
     "text": [
      "(375660, 14)\n",
      "Index(['Survey wave (year)', 'Site ID', 'Location', 'Survey date', 'Weather',\n",
      "       'Time', 'Period', 'Direction', 'Start hour', 'Start minute',\n",
      "       'Number of male cycles', 'Number of female cycles',\n",
      "       'Number of unknown cycles', 'Total cycles'],\n",
      "      dtype='object')\n"
     ]
    }
   ],
   "source": [
    "# Determine the metadata of the data sets\n",
    "print(outer_london.shape)\n",
    "print(outer_london.columns)"
   ]
  },
  {
   "cell_type": "code",
   "execution_count": 17,
   "id": "7a19dc68",
   "metadata": {},
   "outputs": [
    {
     "name": "stdout",
     "output_type": "stream",
     "text": [
      "<class 'pandas.core.frame.DataFrame'>\n",
      "RangeIndex: 375660 entries, 0 to 375659\n",
      "Data columns (total 14 columns):\n",
      " #   Column                    Non-Null Count   Dtype \n",
      "---  ------                    --------------   ----- \n",
      " 0   Survey wave (year)        375660 non-null  int64 \n",
      " 1   Site ID                   375660 non-null  object\n",
      " 2   Location                  375660 non-null  object\n",
      " 3   Survey date               374492 non-null  object\n",
      " 4   Weather                   374692 non-null  object\n",
      " 5   Time                      375660 non-null  object\n",
      " 6   Period                    375660 non-null  object\n",
      " 7   Direction                 375660 non-null  object\n",
      " 8   Start hour                375660 non-null  int64 \n",
      " 9   Start minute              375660 non-null  int64 \n",
      " 10  Number of male cycles     375660 non-null  int64 \n",
      " 11  Number of female cycles   375660 non-null  int64 \n",
      " 12  Number of unknown cycles  375660 non-null  int64 \n",
      " 13  Total cycles              375660 non-null  int64 \n",
      "dtypes: int64(7), object(7)\n",
      "memory usage: 40.1+ MB\n"
     ]
    }
   ],
   "source": [
    "outer_london.info()"
   ]
  },
  {
   "cell_type": "code",
   "execution_count": 11,
   "id": "722518e9",
   "metadata": {},
   "outputs": [
    {
     "data": {
      "text/plain": [
       "Survey wave (year)             0\n",
       "Site ID                        0\n",
       "Location                       0\n",
       "Survey date                 1168\n",
       "Weather                      968\n",
       "Time                           0\n",
       "Period                         0\n",
       "Direction                      0\n",
       "Start hour                     0\n",
       "Start minute                   0\n",
       "Number of male cycles          0\n",
       "Number of female cycles        0\n",
       "Number of unknown cycles       0\n",
       "Total cycles                   0\n",
       "dtype: int64"
      ]
     },
     "execution_count": 11,
     "metadata": {},
     "output_type": "execute_result"
    }
   ],
   "source": [
    "# Missing values for outer london\n",
    "missing_values_outer_london = outer_london.isnull().sum()\n",
    "\n",
    "# Display the columns with missing values and their count\n",
    "missing_values_outer_london"
   ]
  },
  {
   "cell_type": "markdown",
   "id": "57e843ed",
   "metadata": {},
   "source": [
    "##### Inner London"
   ]
  },
  {
   "cell_type": "code",
   "execution_count": 12,
   "id": "dcc14a79",
   "metadata": {},
   "outputs": [
    {
     "name": "stdout",
     "output_type": "stream",
     "text": [
      "(615168, 13)\n",
      "Index(['Survey wave (year)', 'Site ID', 'Location', 'Survey date', 'Weather',\n",
      "       'Time', 'Period', 'Direction', 'Start hour', 'Start minute',\n",
      "       'Number of private cycles', 'Number of cycle hire bikes',\n",
      "       'Total cycles'],\n",
      "      dtype='object')\n"
     ]
    }
   ],
   "source": [
    "# Determine the metadata of the data sets\n",
    "print(inner_london.shape)\n",
    "print(inner_london.columns)"
   ]
  },
  {
   "cell_type": "code",
   "execution_count": 18,
   "id": "bab7a252",
   "metadata": {},
   "outputs": [
    {
     "name": "stdout",
     "output_type": "stream",
     "text": [
      "<class 'pandas.core.frame.DataFrame'>\n",
      "RangeIndex: 615168 entries, 0 to 615167\n",
      "Data columns (total 13 columns):\n",
      " #   Column                      Non-Null Count   Dtype  \n",
      "---  ------                      --------------   -----  \n",
      " 0   Survey wave (year)          523776 non-null  float64\n",
      " 1   Site ID                     523776 non-null  object \n",
      " 2   Location                    523776 non-null  object \n",
      " 3   Survey date                 521024 non-null  object \n",
      " 4   Weather                     519102 non-null  object \n",
      " 5   Time                        523770 non-null  object \n",
      " 6   Period                      523770 non-null  object \n",
      " 7   Direction                   523776 non-null  object \n",
      " 8   Start hour                  523770 non-null  float64\n",
      " 9   Start minute                523770 non-null  float64\n",
      " 10  Number of private cycles    523776 non-null  float64\n",
      " 11  Number of cycle hire bikes  523776 non-null  float64\n",
      " 12  Total cycles                523776 non-null  float64\n",
      "dtypes: float64(6), object(7)\n",
      "memory usage: 61.0+ MB\n"
     ]
    }
   ],
   "source": [
    "inner_london.info()"
   ]
  },
  {
   "cell_type": "code",
   "execution_count": 13,
   "id": "7be4caab",
   "metadata": {},
   "outputs": [
    {
     "data": {
      "text/plain": [
       "Survey wave (year)            91392\n",
       "Site ID                       91392\n",
       "Location                      91392\n",
       "Survey date                   94144\n",
       "Weather                       96066\n",
       "Time                          91398\n",
       "Period                        91398\n",
       "Direction                     91392\n",
       "Start hour                    91398\n",
       "Start minute                  91398\n",
       "Number of private cycles      91392\n",
       "Number of cycle hire bikes    91392\n",
       "Total cycles                  91392\n",
       "dtype: int64"
      ]
     },
     "execution_count": 13,
     "metadata": {},
     "output_type": "execute_result"
    }
   ],
   "source": [
    "# missing values for inner london\n",
    "missing_values_inner_london = inner_london.isnull().sum()\n",
    "\n",
    "# Display the columns with missing values and their count\n",
    "missing_values_inner_london"
   ]
  },
  {
   "cell_type": "markdown",
   "id": "e1f63fbb",
   "metadata": {},
   "source": [
    "##### Central London"
   ]
  },
  {
   "cell_type": "code",
   "execution_count": 14,
   "id": "80a850a0",
   "metadata": {},
   "outputs": [
    {
     "name": "stdout",
     "output_type": "stream",
     "text": [
      "(1048366, 17)\n",
      "Index(['Survey wave (calendar quarter)', 'Equivalent financial quarter',\n",
      "       'Site ID', 'Location', 'Survey date', 'Weather', 'Time', 'Period',\n",
      "       'Direction', 'Start hour', 'Start minute', 'Number of private cycles',\n",
      "       'Number of cycle hire bikes', 'Total cycles', 'Unnamed: 14',\n",
      "       'Unnamed: 15', 'Unnamed: 16'],\n",
      "      dtype='object')\n"
     ]
    }
   ],
   "source": [
    "# Determine the metadata of the data sets\n",
    "print(central_london.shape)\n",
    "print(central_london.columns)"
   ]
  },
  {
   "cell_type": "code",
   "execution_count": 19,
   "id": "f507b5a0",
   "metadata": {},
   "outputs": [
    {
     "name": "stdout",
     "output_type": "stream",
     "text": [
      "<class 'pandas.core.frame.DataFrame'>\n",
      "RangeIndex: 1048366 entries, 0 to 1048365\n",
      "Data columns (total 17 columns):\n",
      " #   Column                          Non-Null Count   Dtype  \n",
      "---  ------                          --------------   -----  \n",
      " 0   Survey wave (calendar quarter)  758163 non-null  object \n",
      " 1   Equivalent financial quarter    758163 non-null  object \n",
      " 2   Site ID                         758163 non-null  object \n",
      " 3   Location                        758163 non-null  object \n",
      " 4   Survey date                     748007 non-null  object \n",
      " 5   Weather                         746329 non-null  object \n",
      " 6   Time                            758163 non-null  object \n",
      " 7   Period                          758163 non-null  object \n",
      " 8   Direction                       758163 non-null  object \n",
      " 9   Start hour                      758163 non-null  float64\n",
      " 10  Start minute                    758163 non-null  float64\n",
      " 11  Number of private cycles        758099 non-null  float64\n",
      " 12  Number of cycle hire bikes      758099 non-null  float64\n",
      " 13  Total cycles                    758163 non-null  float64\n",
      " 14  Unnamed: 14                     0 non-null       float64\n",
      " 15  Unnamed: 15                     0 non-null       float64\n",
      " 16  Unnamed: 16                     0 non-null       float64\n",
      "dtypes: float64(8), object(9)\n",
      "memory usage: 136.0+ MB\n"
     ]
    }
   ],
   "source": [
    "central_london.info()"
   ]
  },
  {
   "cell_type": "code",
   "execution_count": 15,
   "id": "95a0d915",
   "metadata": {},
   "outputs": [
    {
     "data": {
      "text/plain": [
       "Survey wave (calendar quarter)     290203\n",
       "Equivalent financial quarter       290203\n",
       "Site ID                            290203\n",
       "Location                           290203\n",
       "Survey date                        300359\n",
       "Weather                            302037\n",
       "Time                               290203\n",
       "Period                             290203\n",
       "Direction                          290203\n",
       "Start hour                         290203\n",
       "Start minute                       290203\n",
       "Number of private cycles           290267\n",
       "Number of cycle hire bikes         290267\n",
       "Total cycles                       290203\n",
       "Unnamed: 14                       1048366\n",
       "Unnamed: 15                       1048366\n",
       "Unnamed: 16                       1048366\n",
       "dtype: int64"
      ]
     },
     "execution_count": 15,
     "metadata": {},
     "output_type": "execute_result"
    }
   ],
   "source": [
    "# missing values for central london\n",
    "missing_values_central_london = central_london.isnull().sum()\n",
    "\n",
    "# Display the columns within missing values and their count\n",
    "missing_values_central_london"
   ]
  },
  {
   "cell_type": "code",
   "execution_count": null,
   "id": "977c65dc",
   "metadata": {},
   "outputs": [],
   "source": [
    "\n"
   ]
  }
 ],
 "metadata": {
  "kernelspec": {
   "display_name": "Python 3 (ipykernel)",
   "language": "python",
   "name": "python3"
  },
  "language_info": {
   "codemirror_mode": {
    "name": "ipython",
    "version": 3
   },
   "file_extension": ".py",
   "mimetype": "text/x-python",
   "name": "python",
   "nbconvert_exporter": "python",
   "pygments_lexer": "ipython3",
   "version": "3.10.13"
  }
 },
 "nbformat": 4,
 "nbformat_minor": 5
}
