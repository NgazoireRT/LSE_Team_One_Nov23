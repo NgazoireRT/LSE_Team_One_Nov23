{
 "cells": [
  {
   "cell_type": "markdown",
   "id": "27fabd65",
   "metadata": {},
   "source": [
    "# Project Scope "
   ]
  },
  {
   "cell_type": "markdown",
   "id": "2262f512",
   "metadata": {},
   "source": [
    "### Project Scope and Plan\n",
    "\n",
    "In July 2019, the Department for Transport released data on the type and number of journeys within\n",
    "the United Kingdom per year. The annual numbers of car journeys consistently climbed from 2015 to\n",
    "2018, where it reached a nine-year high of 986 trips per household per year [1]. A noteworthy 75% of\n",
    "UK residents aged 17 and above possessed driver's licences, while 76% of households owned a\n",
    "minimum of one car, and 77% of the total distance travelled each year was by car.\n",
    "\n",
    "The growing congestion resulting from these statistics prompted a need for considering alternative\n",
    "transportation methods . As a result, the Mayor of London and the London Assembly introduced\n",
    "the Mayor's Transport Strategy in 2018, focusing on three primary objectives:\n",
    "\n",
    "- Promoting Healthy Streets & Healthy People\n",
    "- Enhancing the Public Transport Experience\n",
    "- Developing New Homes and Jobs"
   ]
  },
  {
   "cell_type": "markdown",
   "id": "6875c8d8",
   "metadata": {},
   "source": [
    "### Objectives\n",
    "\n",
    "#### How can we increase the uptake of cycling in London?\n",
    "- Expanding cycling infrastructure so residents live within 400m of the cycling networks will increase the number of journeys completed by bike\n",
    "- Separating bike lanes from main roads, cars and large vehicles will make cyclists feel safer and thus increase the numbers of journeys completed by bike\n",
    "- Having a sustainable availability and distribution of safe and affordable hire bikes in London will increase the numbers of journeys completed by bike\n",
    "\n",
    "#### What are the main factors that determine whether people choose to cycle?\n",
    "- More journeys are completed by bike in dry weather than rain\n",
    "- More journeys are completed by bike in the summer months than in the winter months\n",
    "- The time of day has an impact on the number of journeys completed by bike\n",
    "- More journeys are completed by bike in central London than outer London as journeys are typically shorter\n",
    "\n",
    "#### What are the demographics of cyclists in these cities, and are there any underrepresentedgroups that can be engaged with to increase the uptake of cycling as a mode of transport?\n",
    "- The majority of journeys completed by bike in London are completed within commuting hours\n",
    "- Residents of ‘deprived’ areas of London complete fewer journeys on bike than those in ‘wealthy’ areas\n",
    "\n",
    "#### What interventions and changes to the transport network have had the most impact on cycling engagement?"
   ]
  },
  {
   "cell_type": "markdown",
   "id": "1bf74325",
   "metadata": {},
   "source": [
    "## 1. Prepare the Workstation"
   ]
  },
  {
   "cell_type": "code",
   "execution_count": 1,
   "id": "b83df119",
   "metadata": {},
   "outputs": [
    {
     "name": "stdout",
     "output_type": "stream",
     "text": [
      "Requirement already satisfied: pandas in /Users/b23/anaconda3/lib/python3.10/site-packages (2.1.2)\n",
      "Requirement already satisfied: numpy<2,>=1.22.4 in /Users/b23/anaconda3/lib/python3.10/site-packages (from pandas) (1.26.1)\n",
      "Requirement already satisfied: pytz>=2020.1 in /Users/b23/anaconda3/lib/python3.10/site-packages (from pandas) (2023.3.post1)\n",
      "Requirement already satisfied: tzdata>=2022.1 in /Users/b23/anaconda3/lib/python3.10/site-packages (from pandas) (2023.3)\n",
      "Requirement already satisfied: python-dateutil>=2.8.2 in /Users/b23/anaconda3/lib/python3.10/site-packages (from pandas) (2.8.2)\n",
      "Requirement already satisfied: six>=1.5 in /Users/b23/anaconda3/lib/python3.10/site-packages (from python-dateutil>=2.8.2->pandas) (1.16.0)\n",
      "Requirement already satisfied: matplotlib in /Users/b23/anaconda3/lib/python3.10/site-packages (3.8.0)\n",
      "Requirement already satisfied: seaborn in /Users/b23/anaconda3/lib/python3.10/site-packages (0.13.0)\n",
      "Requirement already satisfied: contourpy>=1.0.1 in /Users/b23/anaconda3/lib/python3.10/site-packages (from matplotlib) (1.1.1)\n",
      "Requirement already satisfied: cycler>=0.10 in /Users/b23/anaconda3/lib/python3.10/site-packages (from matplotlib) (0.12.1)\n",
      "Requirement already satisfied: fonttools>=4.22.0 in /Users/b23/anaconda3/lib/python3.10/site-packages (from matplotlib) (4.43.1)\n",
      "Requirement already satisfied: pillow>=6.2.0 in /Users/b23/anaconda3/lib/python3.10/site-packages (from matplotlib) (9.4.0)\n",
      "Requirement already satisfied: pyparsing>=2.3.1 in /Users/b23/anaconda3/lib/python3.10/site-packages (from matplotlib) (3.1.1)\n",
      "Requirement already satisfied: python-dateutil>=2.7 in /Users/b23/anaconda3/lib/python3.10/site-packages (from matplotlib) (2.8.2)\n",
      "Requirement already satisfied: packaging>=20.0 in /Users/b23/anaconda3/lib/python3.10/site-packages (from matplotlib) (23.1)\n",
      "Requirement already satisfied: kiwisolver>=1.0.1 in /Users/b23/anaconda3/lib/python3.10/site-packages (from matplotlib) (1.4.5)\n",
      "Requirement already satisfied: numpy<2,>=1.21 in /Users/b23/anaconda3/lib/python3.10/site-packages (from matplotlib) (1.26.1)\n",
      "Requirement already satisfied: pandas>=1.2 in /Users/b23/anaconda3/lib/python3.10/site-packages (from seaborn) (2.1.2)\n",
      "Requirement already satisfied: tzdata>=2022.1 in /Users/b23/anaconda3/lib/python3.10/site-packages (from pandas>=1.2->seaborn) (2023.3)\n",
      "Requirement already satisfied: pytz>=2020.1 in /Users/b23/anaconda3/lib/python3.10/site-packages (from pandas>=1.2->seaborn) (2023.3.post1)\n",
      "Requirement already satisfied: six>=1.5 in /Users/b23/anaconda3/lib/python3.10/site-packages (from python-dateutil>=2.7->matplotlib) (1.16.0)\n",
      "Requirement already satisfied: conda in /Users/b23/anaconda3/lib/python3.10/site-packages (23.7.4)\n",
      "Requirement already satisfied: packaging in /Users/b23/anaconda3/lib/python3.10/site-packages (from conda) (23.1)\n",
      "Requirement already satisfied: boltons>=23.0.0 in /Users/b23/anaconda3/lib/python3.10/site-packages (from conda) (23.0.0)\n",
      "Requirement already satisfied: setuptools>=60.0.0 in /Users/b23/anaconda3/lib/python3.10/site-packages (from conda) (65.6.3)\n",
      "Requirement already satisfied: requests<3,>=2.27.0 in /Users/b23/anaconda3/lib/python3.10/site-packages (from conda) (2.31.0)\n",
      "Requirement already satisfied: toolz>=0.8.1 in /Users/b23/anaconda3/lib/python3.10/site-packages (from conda) (0.12.0)\n",
      "Requirement already satisfied: conda-package-handling>=1.3.0 in /Users/b23/anaconda3/lib/python3.10/site-packages (from conda) (2.0.2)\n",
      "Requirement already satisfied: pluggy>=1.0.0 in /Users/b23/anaconda3/lib/python3.10/site-packages (from conda) (1.0.0)\n",
      "Requirement already satisfied: jsonpatch>=1.32 in /Users/b23/anaconda3/lib/python3.10/site-packages (from conda) (1.32)\n",
      "Requirement already satisfied: pycosat>=0.6.3 in /Users/b23/anaconda3/lib/python3.10/site-packages (from conda) (0.6.4)\n",
      "Requirement already satisfied: tqdm>=4 in /Users/b23/anaconda3/lib/python3.10/site-packages (from conda) (4.65.0)\n",
      "Requirement already satisfied: pyopenssl>=16.2.0 in /Users/b23/anaconda3/lib/python3.10/site-packages (from conda) (23.2.0)\n",
      "Requirement already satisfied: ruamel-yaml<0.18,>=0.11.14 in /Users/b23/anaconda3/lib/python3.10/site-packages (from conda) (0.17.21)\n",
      "Requirement already satisfied: conda-package-streaming>=0.7.0 in /Users/b23/anaconda3/lib/python3.10/site-packages (from conda-package-handling>=1.3.0->conda) (0.7.0)\n",
      "Requirement already satisfied: jsonpointer>=1.9 in /Users/b23/anaconda3/lib/python3.10/site-packages (from jsonpatch>=1.32->conda) (2.1)\n",
      "Requirement already satisfied: cryptography!=40.0.0,!=40.0.1,<42,>=38.0.0 in /Users/b23/anaconda3/lib/python3.10/site-packages (from pyopenssl>=16.2.0->conda) (41.0.3)\n",
      "Requirement already satisfied: urllib3<3,>=1.21.1 in /Users/b23/anaconda3/lib/python3.10/site-packages (from requests<3,>=2.27.0->conda) (1.26.16)\n",
      "Requirement already satisfied: certifi>=2017.4.17 in /Users/b23/anaconda3/lib/python3.10/site-packages (from requests<3,>=2.27.0->conda) (2023.7.22)\n",
      "Requirement already satisfied: idna<4,>=2.5 in /Users/b23/anaconda3/lib/python3.10/site-packages (from requests<3,>=2.27.0->conda) (3.4)\n",
      "Requirement already satisfied: charset-normalizer<4,>=2 in /Users/b23/anaconda3/lib/python3.10/site-packages (from requests<3,>=2.27.0->conda) (2.0.4)\n",
      "Requirement already satisfied: ruamel.yaml.clib>=0.2.6 in /Users/b23/anaconda3/lib/python3.10/site-packages (from ruamel-yaml<0.18,>=0.11.14->conda) (0.2.6)\n",
      "Requirement already satisfied: zstandard>=0.15 in /Users/b23/anaconda3/lib/python3.10/site-packages (from conda-package-streaming>=0.7.0->conda-package-handling>=1.3.0->conda) (0.19.0)\n",
      "Requirement already satisfied: cffi>=1.12 in /Users/b23/anaconda3/lib/python3.10/site-packages (from cryptography!=40.0.0,!=40.0.1,<42,>=38.0.0->pyopenssl>=16.2.0->conda) (1.15.1)\n",
      "Requirement already satisfied: pycparser in /Users/b23/anaconda3/lib/python3.10/site-packages (from cffi>=1.12->cryptography!=40.0.0,!=40.0.1,<42,>=38.0.0->pyopenssl>=16.2.0->conda) (2.21)\n",
      "Requirement already satisfied: openpyxl in /Users/b23/anaconda3/lib/python3.10/site-packages (3.1.2)\n",
      "Requirement already satisfied: et-xmlfile in /Users/b23/anaconda3/lib/python3.10/site-packages (from openpyxl) (1.1.0)\n"
     ]
    }
   ],
   "source": [
    "!pip install pandas\n",
    "!pip install matplotlib seaborn\n",
    "!pip install conda\n",
    "!pip install openpyxl"
   ]
  },
  {
   "cell_type": "code",
   "execution_count": 2,
   "id": "471b6cb1",
   "metadata": {},
   "outputs": [],
   "source": [
    "# Imports \n",
    "import pandas as pd\n",
    "import matplotlib.pyplot as plt\n",
    "import seaborn as sns"
   ]
  },
  {
   "cell_type": "code",
   "execution_count": 3,
   "id": "c5d79306",
   "metadata": {},
   "outputs": [
    {
     "name": "stderr",
     "output_type": "stream",
     "text": [
      "/var/folders/cn/47qy272s11q7_n4t9zj37np40000gn/T/ipykernel_1180/1662675493.py:2: DtypeWarning: Columns (0,1,2,3,4,5,6,7,8) have mixed types. Specify dtype option on import or set low_memory=False.\n",
      "  central_london = pd.read_csv('Central London.csv')\n",
      "/var/folders/cn/47qy272s11q7_n4t9zj37np40000gn/T/ipykernel_1180/1662675493.py:3: DtypeWarning: Columns (1,2,3,4,5,6,7) have mixed types. Specify dtype option on import or set low_memory=False.\n",
      "  inner_london = pd.read_csv('Inner London.csv')\n"
     ]
    }
   ],
   "source": [
    "# Load the data\n",
    "central_london = pd.read_csv('Central London.csv')\n",
    "inner_london = pd.read_csv('Inner London.csv')\n",
    "outer_london = pd.read_csv('Outer London.csv')\n",
    "biking_sites = pd.read_excel('Biking sites.xlsx')"
   ]
  },
  {
   "cell_type": "code",
   "execution_count": 4,
   "id": "396af9da",
   "metadata": {},
   "outputs": [
    {
     "data": {
      "text/html": [
       "<div>\n",
       "<style scoped>\n",
       "    .dataframe tbody tr th:only-of-type {\n",
       "        vertical-align: middle;\n",
       "    }\n",
       "\n",
       "    .dataframe tbody tr th {\n",
       "        vertical-align: top;\n",
       "    }\n",
       "\n",
       "    .dataframe thead th {\n",
       "        text-align: right;\n",
       "    }\n",
       "</style>\n",
       "<table border=\"1\" class=\"dataframe\">\n",
       "  <thead>\n",
       "    <tr style=\"text-align: right;\">\n",
       "      <th></th>\n",
       "      <th>UnqID</th>\n",
       "      <th>ProgID</th>\n",
       "      <th>SurveyDescription</th>\n",
       "      <th>Easting</th>\n",
       "      <th>Northing</th>\n",
       "      <th>Location</th>\n",
       "      <th>Borough</th>\n",
       "      <th>Functional cycling area</th>\n",
       "    </tr>\n",
       "  </thead>\n",
       "  <tbody>\n",
       "    <tr>\n",
       "      <th>0</th>\n",
       "      <td>CENCY001</td>\n",
       "      <td>CENCY</td>\n",
       "      <td>Central area cycle surveys</td>\n",
       "      <td>530251.49</td>\n",
       "      <td>178742.45</td>\n",
       "      <td>Millbank (south of Thorney Street)</td>\n",
       "      <td>Westminster</td>\n",
       "      <td>Central</td>\n",
       "    </tr>\n",
       "    <tr>\n",
       "      <th>1</th>\n",
       "      <td>CENCY002</td>\n",
       "      <td>CENCY</td>\n",
       "      <td>Central area cycle surveys</td>\n",
       "      <td>533362.68</td>\n",
       "      <td>181824.45</td>\n",
       "      <td>Bishopsgate</td>\n",
       "      <td>City of London</td>\n",
       "      <td>Central</td>\n",
       "    </tr>\n",
       "    <tr>\n",
       "      <th>2</th>\n",
       "      <td>CENCY003</td>\n",
       "      <td>CENCY</td>\n",
       "      <td>Central area cycle surveys</td>\n",
       "      <td>532334.06</td>\n",
       "      <td>180520.37</td>\n",
       "      <td>Southwark Bridge</td>\n",
       "      <td>Southwark</td>\n",
       "      <td>Central</td>\n",
       "    </tr>\n",
       "    <tr>\n",
       "      <th>3</th>\n",
       "      <td>CENCY004</td>\n",
       "      <td>CENCY</td>\n",
       "      <td>Central area cycle surveys</td>\n",
       "      <td>532052.50</td>\n",
       "      <td>179677.64</td>\n",
       "      <td>Southwark Bridge Road</td>\n",
       "      <td>Southwark</td>\n",
       "      <td>Central</td>\n",
       "    </tr>\n",
       "    <tr>\n",
       "      <th>4</th>\n",
       "      <td>CENCY005</td>\n",
       "      <td>CENCY</td>\n",
       "      <td>Central area cycle surveys</td>\n",
       "      <td>533031.59</td>\n",
       "      <td>180213.46</td>\n",
       "      <td>Tooley Street</td>\n",
       "      <td>Southwark</td>\n",
       "      <td>Central</td>\n",
       "    </tr>\n",
       "  </tbody>\n",
       "</table>\n",
       "</div>"
      ],
      "text/plain": [
       "      UnqID ProgID           SurveyDescription    Easting   Northing  \\\n",
       "0  CENCY001  CENCY  Central area cycle surveys  530251.49  178742.45   \n",
       "1  CENCY002  CENCY  Central area cycle surveys  533362.68  181824.45   \n",
       "2  CENCY003  CENCY  Central area cycle surveys  532334.06  180520.37   \n",
       "3  CENCY004  CENCY  Central area cycle surveys  532052.50  179677.64   \n",
       "4  CENCY005  CENCY  Central area cycle surveys  533031.59  180213.46   \n",
       "\n",
       "                             Location         Borough Functional cycling area  \n",
       "0  Millbank (south of Thorney Street)     Westminster                 Central  \n",
       "1                         Bishopsgate  City of London                 Central  \n",
       "2                    Southwark Bridge       Southwark                 Central  \n",
       "3               Southwark Bridge Road       Southwark                 Central  \n",
       "4                       Tooley Street       Southwark                 Central  "
      ]
     },
     "execution_count": 4,
     "metadata": {},
     "output_type": "execute_result"
    }
   ],
   "source": [
    "# view the data\n",
    "biking_sites.head()"
   ]
  },
  {
   "cell_type": "code",
   "execution_count": 5,
   "id": "29680d9b",
   "metadata": {},
   "outputs": [
    {
     "data": {
      "text/html": [
       "<div>\n",
       "<style scoped>\n",
       "    .dataframe tbody tr th:only-of-type {\n",
       "        vertical-align: middle;\n",
       "    }\n",
       "\n",
       "    .dataframe tbody tr th {\n",
       "        vertical-align: top;\n",
       "    }\n",
       "\n",
       "    .dataframe thead th {\n",
       "        text-align: right;\n",
       "    }\n",
       "</style>\n",
       "<table border=\"1\" class=\"dataframe\">\n",
       "  <thead>\n",
       "    <tr style=\"text-align: right;\">\n",
       "      <th></th>\n",
       "      <th>Survey wave (calendar quarter)</th>\n",
       "      <th>Equivalent financial quarter</th>\n",
       "      <th>Site ID</th>\n",
       "      <th>Location</th>\n",
       "      <th>Survey date</th>\n",
       "      <th>Weather</th>\n",
       "      <th>Time</th>\n",
       "      <th>Period</th>\n",
       "      <th>Direction</th>\n",
       "      <th>Start hour</th>\n",
       "      <th>Start minute</th>\n",
       "      <th>Number of private cycles</th>\n",
       "      <th>Number of cycle hire bikes</th>\n",
       "      <th>Total cycles</th>\n",
       "      <th>Unnamed: 14</th>\n",
       "      <th>Unnamed: 15</th>\n",
       "      <th>Unnamed: 16</th>\n",
       "    </tr>\n",
       "  </thead>\n",
       "  <tbody>\n",
       "    <tr>\n",
       "      <th>0</th>\n",
       "      <td>2014 Q1 (January-March)</td>\n",
       "      <td>2013-14 Q4</td>\n",
       "      <td>CENCY001</td>\n",
       "      <td>Millbank (south of Thorney Street)</td>\n",
       "      <td>ven, 24/01/14</td>\n",
       "      <td>Dry</td>\n",
       "      <td>0600 - 0615</td>\n",
       "      <td>Early Morning (06:00-07:00)</td>\n",
       "      <td>Northbound</td>\n",
       "      <td>6.0</td>\n",
       "      <td>0.0</td>\n",
       "      <td>0.0</td>\n",
       "      <td>0.0</td>\n",
       "      <td>0.0</td>\n",
       "      <td>NaN</td>\n",
       "      <td>NaN</td>\n",
       "      <td>NaN</td>\n",
       "    </tr>\n",
       "    <tr>\n",
       "      <th>1</th>\n",
       "      <td>2014 Q1 (January-March)</td>\n",
       "      <td>2013-14 Q4</td>\n",
       "      <td>CENCY001</td>\n",
       "      <td>Millbank (south of Thorney Street)</td>\n",
       "      <td>ven, 24/01/14</td>\n",
       "      <td>Dry</td>\n",
       "      <td>0615 - 0630</td>\n",
       "      <td>Early Morning (06:00-07:00)</td>\n",
       "      <td>Northbound</td>\n",
       "      <td>6.0</td>\n",
       "      <td>15.0</td>\n",
       "      <td>15.0</td>\n",
       "      <td>0.0</td>\n",
       "      <td>15.0</td>\n",
       "      <td>NaN</td>\n",
       "      <td>NaN</td>\n",
       "      <td>NaN</td>\n",
       "    </tr>\n",
       "    <tr>\n",
       "      <th>2</th>\n",
       "      <td>2014 Q1 (January-March)</td>\n",
       "      <td>2013-14 Q4</td>\n",
       "      <td>CENCY001</td>\n",
       "      <td>Millbank (south of Thorney Street)</td>\n",
       "      <td>ven, 24/01/14</td>\n",
       "      <td>Dry</td>\n",
       "      <td>0630 - 0645</td>\n",
       "      <td>Early Morning (06:00-07:00)</td>\n",
       "      <td>Northbound</td>\n",
       "      <td>6.0</td>\n",
       "      <td>30.0</td>\n",
       "      <td>35.0</td>\n",
       "      <td>0.0</td>\n",
       "      <td>35.0</td>\n",
       "      <td>NaN</td>\n",
       "      <td>NaN</td>\n",
       "      <td>NaN</td>\n",
       "    </tr>\n",
       "    <tr>\n",
       "      <th>3</th>\n",
       "      <td>2014 Q1 (January-March)</td>\n",
       "      <td>2013-14 Q4</td>\n",
       "      <td>CENCY001</td>\n",
       "      <td>Millbank (south of Thorney Street)</td>\n",
       "      <td>ven, 24/01/14</td>\n",
       "      <td>Dry</td>\n",
       "      <td>0645 - 0700</td>\n",
       "      <td>Early Morning (06:00-07:00)</td>\n",
       "      <td>Northbound</td>\n",
       "      <td>6.0</td>\n",
       "      <td>45.0</td>\n",
       "      <td>59.0</td>\n",
       "      <td>2.0</td>\n",
       "      <td>61.0</td>\n",
       "      <td>NaN</td>\n",
       "      <td>NaN</td>\n",
       "      <td>NaN</td>\n",
       "    </tr>\n",
       "    <tr>\n",
       "      <th>4</th>\n",
       "      <td>2014 Q1 (January-March)</td>\n",
       "      <td>2013-14 Q4</td>\n",
       "      <td>CENCY001</td>\n",
       "      <td>Millbank (south of Thorney Street)</td>\n",
       "      <td>ven, 24/01/14</td>\n",
       "      <td>Dry</td>\n",
       "      <td>0700 - 0715</td>\n",
       "      <td>AM peak (07:00-10:00)</td>\n",
       "      <td>Northbound</td>\n",
       "      <td>7.0</td>\n",
       "      <td>0.0</td>\n",
       "      <td>73.0</td>\n",
       "      <td>0.0</td>\n",
       "      <td>73.0</td>\n",
       "      <td>NaN</td>\n",
       "      <td>NaN</td>\n",
       "      <td>NaN</td>\n",
       "    </tr>\n",
       "  </tbody>\n",
       "</table>\n",
       "</div>"
      ],
      "text/plain": [
       "  Survey wave (calendar quarter) Equivalent financial quarter   Site ID  \\\n",
       "0        2014 Q1 (January-March)                   2013-14 Q4  CENCY001   \n",
       "1        2014 Q1 (January-March)                   2013-14 Q4  CENCY001   \n",
       "2        2014 Q1 (January-March)                   2013-14 Q4  CENCY001   \n",
       "3        2014 Q1 (January-March)                   2013-14 Q4  CENCY001   \n",
       "4        2014 Q1 (January-March)                   2013-14 Q4  CENCY001   \n",
       "\n",
       "                             Location    Survey date Weather         Time  \\\n",
       "0  Millbank (south of Thorney Street)  ven, 24/01/14     Dry  0600 - 0615   \n",
       "1  Millbank (south of Thorney Street)  ven, 24/01/14     Dry  0615 - 0630   \n",
       "2  Millbank (south of Thorney Street)  ven, 24/01/14     Dry  0630 - 0645   \n",
       "3  Millbank (south of Thorney Street)  ven, 24/01/14     Dry  0645 - 0700   \n",
       "4  Millbank (south of Thorney Street)  ven, 24/01/14     Dry  0700 - 0715   \n",
       "\n",
       "                        Period   Direction  Start hour  Start minute  \\\n",
       "0  Early Morning (06:00-07:00)  Northbound         6.0           0.0   \n",
       "1  Early Morning (06:00-07:00)  Northbound         6.0          15.0   \n",
       "2  Early Morning (06:00-07:00)  Northbound         6.0          30.0   \n",
       "3  Early Morning (06:00-07:00)  Northbound         6.0          45.0   \n",
       "4        AM peak (07:00-10:00)  Northbound         7.0           0.0   \n",
       "\n",
       "   Number of private cycles  Number of cycle hire bikes  Total cycles  \\\n",
       "0                       0.0                         0.0           0.0   \n",
       "1                      15.0                         0.0          15.0   \n",
       "2                      35.0                         0.0          35.0   \n",
       "3                      59.0                         2.0          61.0   \n",
       "4                      73.0                         0.0          73.0   \n",
       "\n",
       "   Unnamed: 14  Unnamed: 15  Unnamed: 16  \n",
       "0          NaN          NaN          NaN  \n",
       "1          NaN          NaN          NaN  \n",
       "2          NaN          NaN          NaN  \n",
       "3          NaN          NaN          NaN  \n",
       "4          NaN          NaN          NaN  "
      ]
     },
     "execution_count": 5,
     "metadata": {},
     "output_type": "execute_result"
    }
   ],
   "source": [
    "# View the data \n",
    "central_london.head()"
   ]
  },
  {
   "cell_type": "code",
   "execution_count": 6,
   "id": "f7cf79a8",
   "metadata": {},
   "outputs": [
    {
     "data": {
      "text/html": [
       "<div>\n",
       "<style scoped>\n",
       "    .dataframe tbody tr th:only-of-type {\n",
       "        vertical-align: middle;\n",
       "    }\n",
       "\n",
       "    .dataframe tbody tr th {\n",
       "        vertical-align: top;\n",
       "    }\n",
       "\n",
       "    .dataframe thead th {\n",
       "        text-align: right;\n",
       "    }\n",
       "</style>\n",
       "<table border=\"1\" class=\"dataframe\">\n",
       "  <thead>\n",
       "    <tr style=\"text-align: right;\">\n",
       "      <th></th>\n",
       "      <th>Survey wave (year)</th>\n",
       "      <th>Site ID</th>\n",
       "      <th>Location</th>\n",
       "      <th>Survey date</th>\n",
       "      <th>Weather</th>\n",
       "      <th>Time</th>\n",
       "      <th>Period</th>\n",
       "      <th>Direction</th>\n",
       "      <th>Start hour</th>\n",
       "      <th>Start minute</th>\n",
       "      <th>Number of private cycles</th>\n",
       "      <th>Number of cycle hire bikes</th>\n",
       "      <th>Total cycles</th>\n",
       "    </tr>\n",
       "  </thead>\n",
       "  <tbody>\n",
       "    <tr>\n",
       "      <th>0</th>\n",
       "      <td>2015.0</td>\n",
       "      <td>INNCY001</td>\n",
       "      <td>Grove Road</td>\n",
       "      <td>mer, 20/05/15</td>\n",
       "      <td>Dry</td>\n",
       "      <td>0600 - 0615</td>\n",
       "      <td>Early Morning (06:00-07:00)</td>\n",
       "      <td>Northbound</td>\n",
       "      <td>6.0</td>\n",
       "      <td>0.0</td>\n",
       "      <td>1.0</td>\n",
       "      <td>0.0</td>\n",
       "      <td>1.0</td>\n",
       "    </tr>\n",
       "    <tr>\n",
       "      <th>1</th>\n",
       "      <td>2015.0</td>\n",
       "      <td>INNCY001</td>\n",
       "      <td>Grove Road</td>\n",
       "      <td>mer, 20/05/15</td>\n",
       "      <td>Dry</td>\n",
       "      <td>0615 - 0630</td>\n",
       "      <td>Early Morning (06:00-07:00)</td>\n",
       "      <td>Northbound</td>\n",
       "      <td>6.0</td>\n",
       "      <td>15.0</td>\n",
       "      <td>2.0</td>\n",
       "      <td>0.0</td>\n",
       "      <td>2.0</td>\n",
       "    </tr>\n",
       "    <tr>\n",
       "      <th>2</th>\n",
       "      <td>2015.0</td>\n",
       "      <td>INNCY001</td>\n",
       "      <td>Grove Road</td>\n",
       "      <td>mer, 20/05/15</td>\n",
       "      <td>Dry</td>\n",
       "      <td>0630 - 0645</td>\n",
       "      <td>Early Morning (06:00-07:00)</td>\n",
       "      <td>Northbound</td>\n",
       "      <td>6.0</td>\n",
       "      <td>30.0</td>\n",
       "      <td>2.0</td>\n",
       "      <td>0.0</td>\n",
       "      <td>2.0</td>\n",
       "    </tr>\n",
       "    <tr>\n",
       "      <th>3</th>\n",
       "      <td>2015.0</td>\n",
       "      <td>INNCY001</td>\n",
       "      <td>Grove Road</td>\n",
       "      <td>mer, 20/05/15</td>\n",
       "      <td>Dry</td>\n",
       "      <td>0645 - 0700</td>\n",
       "      <td>Early Morning (06:00-07:00)</td>\n",
       "      <td>Northbound</td>\n",
       "      <td>6.0</td>\n",
       "      <td>45.0</td>\n",
       "      <td>4.0</td>\n",
       "      <td>0.0</td>\n",
       "      <td>4.0</td>\n",
       "    </tr>\n",
       "    <tr>\n",
       "      <th>4</th>\n",
       "      <td>2015.0</td>\n",
       "      <td>INNCY001</td>\n",
       "      <td>Grove Road</td>\n",
       "      <td>mer, 20/05/15</td>\n",
       "      <td>Dry</td>\n",
       "      <td>0700 - 0715</td>\n",
       "      <td>AM peak (07:00-10:00)</td>\n",
       "      <td>Northbound</td>\n",
       "      <td>7.0</td>\n",
       "      <td>0.0</td>\n",
       "      <td>4.0</td>\n",
       "      <td>0.0</td>\n",
       "      <td>4.0</td>\n",
       "    </tr>\n",
       "  </tbody>\n",
       "</table>\n",
       "</div>"
      ],
      "text/plain": [
       "   Survey wave (year)   Site ID    Location    Survey date Weather  \\\n",
       "0              2015.0  INNCY001  Grove Road  mer, 20/05/15     Dry   \n",
       "1              2015.0  INNCY001  Grove Road  mer, 20/05/15     Dry   \n",
       "2              2015.0  INNCY001  Grove Road  mer, 20/05/15     Dry   \n",
       "3              2015.0  INNCY001  Grove Road  mer, 20/05/15     Dry   \n",
       "4              2015.0  INNCY001  Grove Road  mer, 20/05/15     Dry   \n",
       "\n",
       "          Time                       Period   Direction  Start hour  \\\n",
       "0  0600 - 0615  Early Morning (06:00-07:00)  Northbound         6.0   \n",
       "1  0615 - 0630  Early Morning (06:00-07:00)  Northbound         6.0   \n",
       "2  0630 - 0645  Early Morning (06:00-07:00)  Northbound         6.0   \n",
       "3  0645 - 0700  Early Morning (06:00-07:00)  Northbound         6.0   \n",
       "4  0700 - 0715        AM peak (07:00-10:00)  Northbound         7.0   \n",
       "\n",
       "   Start minute  Number of private cycles  Number of cycle hire bikes  \\\n",
       "0           0.0                       1.0                         0.0   \n",
       "1          15.0                       2.0                         0.0   \n",
       "2          30.0                       2.0                         0.0   \n",
       "3          45.0                       4.0                         0.0   \n",
       "4           0.0                       4.0                         0.0   \n",
       "\n",
       "   Total cycles  \n",
       "0           1.0  \n",
       "1           2.0  \n",
       "2           2.0  \n",
       "3           4.0  \n",
       "4           4.0  "
      ]
     },
     "execution_count": 6,
     "metadata": {},
     "output_type": "execute_result"
    }
   ],
   "source": [
    "# view the data\n",
    "inner_london.head()"
   ]
  },
  {
   "cell_type": "code",
   "execution_count": 7,
   "id": "b9e556a5",
   "metadata": {},
   "outputs": [
    {
     "data": {
      "text/html": [
       "<div>\n",
       "<style scoped>\n",
       "    .dataframe tbody tr th:only-of-type {\n",
       "        vertical-align: middle;\n",
       "    }\n",
       "\n",
       "    .dataframe tbody tr th {\n",
       "        vertical-align: top;\n",
       "    }\n",
       "\n",
       "    .dataframe thead th {\n",
       "        text-align: right;\n",
       "    }\n",
       "</style>\n",
       "<table border=\"1\" class=\"dataframe\">\n",
       "  <thead>\n",
       "    <tr style=\"text-align: right;\">\n",
       "      <th></th>\n",
       "      <th>Survey wave (year)</th>\n",
       "      <th>Site ID</th>\n",
       "      <th>Location</th>\n",
       "      <th>Survey date</th>\n",
       "      <th>Weather</th>\n",
       "      <th>Time</th>\n",
       "      <th>Period</th>\n",
       "      <th>Direction</th>\n",
       "      <th>Start hour</th>\n",
       "      <th>Start minute</th>\n",
       "      <th>Number of male cycles</th>\n",
       "      <th>Number of female cycles</th>\n",
       "      <th>Number of unknown cycles</th>\n",
       "      <th>Total cycles</th>\n",
       "    </tr>\n",
       "  </thead>\n",
       "  <tbody>\n",
       "    <tr>\n",
       "      <th>0</th>\n",
       "      <td>2015</td>\n",
       "      <td>OUTCY001</td>\n",
       "      <td>High Road Leyton</td>\n",
       "      <td>ven, 26/06/15</td>\n",
       "      <td>Dry</td>\n",
       "      <td>0600 - 0615</td>\n",
       "      <td>Early Morning (06:00-07:00)</td>\n",
       "      <td>Northbound</td>\n",
       "      <td>6</td>\n",
       "      <td>0</td>\n",
       "      <td>2</td>\n",
       "      <td>1</td>\n",
       "      <td>0</td>\n",
       "      <td>3</td>\n",
       "    </tr>\n",
       "    <tr>\n",
       "      <th>1</th>\n",
       "      <td>2015</td>\n",
       "      <td>OUTCY001</td>\n",
       "      <td>High Road Leyton</td>\n",
       "      <td>ven, 26/06/15</td>\n",
       "      <td>Dry</td>\n",
       "      <td>0615 - 0630</td>\n",
       "      <td>Early Morning (06:00-07:00)</td>\n",
       "      <td>Northbound</td>\n",
       "      <td>6</td>\n",
       "      <td>15</td>\n",
       "      <td>3</td>\n",
       "      <td>0</td>\n",
       "      <td>0</td>\n",
       "      <td>3</td>\n",
       "    </tr>\n",
       "    <tr>\n",
       "      <th>2</th>\n",
       "      <td>2015</td>\n",
       "      <td>OUTCY001</td>\n",
       "      <td>High Road Leyton</td>\n",
       "      <td>ven, 26/06/15</td>\n",
       "      <td>Dry</td>\n",
       "      <td>0630 - 0645</td>\n",
       "      <td>Early Morning (06:00-07:00)</td>\n",
       "      <td>Northbound</td>\n",
       "      <td>6</td>\n",
       "      <td>30</td>\n",
       "      <td>2</td>\n",
       "      <td>0</td>\n",
       "      <td>0</td>\n",
       "      <td>2</td>\n",
       "    </tr>\n",
       "    <tr>\n",
       "      <th>3</th>\n",
       "      <td>2015</td>\n",
       "      <td>OUTCY001</td>\n",
       "      <td>High Road Leyton</td>\n",
       "      <td>ven, 26/06/15</td>\n",
       "      <td>Dry</td>\n",
       "      <td>0645 - 0700</td>\n",
       "      <td>Early Morning (06:00-07:00)</td>\n",
       "      <td>Northbound</td>\n",
       "      <td>6</td>\n",
       "      <td>45</td>\n",
       "      <td>4</td>\n",
       "      <td>0</td>\n",
       "      <td>0</td>\n",
       "      <td>4</td>\n",
       "    </tr>\n",
       "    <tr>\n",
       "      <th>4</th>\n",
       "      <td>2015</td>\n",
       "      <td>OUTCY001</td>\n",
       "      <td>High Road Leyton</td>\n",
       "      <td>ven, 26/06/15</td>\n",
       "      <td>Dry</td>\n",
       "      <td>0700 - 0715</td>\n",
       "      <td>AM peak (07:00-10:00)</td>\n",
       "      <td>Northbound</td>\n",
       "      <td>7</td>\n",
       "      <td>0</td>\n",
       "      <td>4</td>\n",
       "      <td>1</td>\n",
       "      <td>0</td>\n",
       "      <td>5</td>\n",
       "    </tr>\n",
       "  </tbody>\n",
       "</table>\n",
       "</div>"
      ],
      "text/plain": [
       "   Survey wave (year)   Site ID          Location    Survey date Weather  \\\n",
       "0                2015  OUTCY001  High Road Leyton  ven, 26/06/15     Dry   \n",
       "1                2015  OUTCY001  High Road Leyton  ven, 26/06/15     Dry   \n",
       "2                2015  OUTCY001  High Road Leyton  ven, 26/06/15     Dry   \n",
       "3                2015  OUTCY001  High Road Leyton  ven, 26/06/15     Dry   \n",
       "4                2015  OUTCY001  High Road Leyton  ven, 26/06/15     Dry   \n",
       "\n",
       "          Time                       Period   Direction  Start hour  \\\n",
       "0  0600 - 0615  Early Morning (06:00-07:00)  Northbound           6   \n",
       "1  0615 - 0630  Early Morning (06:00-07:00)  Northbound           6   \n",
       "2  0630 - 0645  Early Morning (06:00-07:00)  Northbound           6   \n",
       "3  0645 - 0700  Early Morning (06:00-07:00)  Northbound           6   \n",
       "4  0700 - 0715        AM peak (07:00-10:00)  Northbound           7   \n",
       "\n",
       "   Start minute  Number of male cycles  Number of female cycles  \\\n",
       "0             0                      2                        1   \n",
       "1            15                      3                        0   \n",
       "2            30                      2                        0   \n",
       "3            45                      4                        0   \n",
       "4             0                      4                        1   \n",
       "\n",
       "   Number of unknown cycles  Total cycles  \n",
       "0                         0             3  \n",
       "1                         0             3  \n",
       "2                         0             2  \n",
       "3                         0             4  \n",
       "4                         0             5  "
      ]
     },
     "execution_count": 7,
     "metadata": {},
     "output_type": "execute_result"
    }
   ],
   "source": [
    "# view the data\n",
    "outer_london.head()"
   ]
  },
  {
   "cell_type": "markdown",
   "id": "e5345a26",
   "metadata": {},
   "source": [
    "## 2. Data Cleaning & Exploration"
   ]
  },
  {
   "cell_type": "markdown",
   "id": "88a78b3e",
   "metadata": {},
   "source": [
    "##### Biking Sites"
   ]
  },
  {
   "cell_type": "code",
   "execution_count": 8,
   "id": "3236d603",
   "metadata": {
    "scrolled": true
   },
   "outputs": [
    {
     "name": "stdout",
     "output_type": "stream",
     "text": [
      "(2023, 8)\n",
      "Index(['UnqID', 'ProgID', 'SurveyDescription', 'Easting', 'Northing',\n",
      "       'Location', 'Borough', 'Functional cycling area'],\n",
      "      dtype='object')\n"
     ]
    }
   ],
   "source": [
    "# Determine the metadata of the data sets\n",
    "print(biking_sites.shape)\n",
    "print(biking_sites.columns)"
   ]
  },
  {
   "cell_type": "code",
   "execution_count": 9,
   "id": "d53f9993",
   "metadata": {},
   "outputs": [
    {
     "name": "stdout",
     "output_type": "stream",
     "text": [
      "<class 'pandas.core.frame.DataFrame'>\n",
      "RangeIndex: 2023 entries, 0 to 2022\n",
      "Data columns (total 8 columns):\n",
      " #   Column                   Non-Null Count  Dtype  \n",
      "---  ------                   --------------  -----  \n",
      " 0   UnqID                    2023 non-null   object \n",
      " 1   ProgID                   2023 non-null   object \n",
      " 2   SurveyDescription        2023 non-null   object \n",
      " 3   Easting                  2023 non-null   float64\n",
      " 4   Northing                 2023 non-null   float64\n",
      " 5   Location                 2023 non-null   object \n",
      " 6   Borough                  2023 non-null   object \n",
      " 7   Functional cycling area  2021 non-null   object \n",
      "dtypes: float64(2), object(6)\n",
      "memory usage: 126.6+ KB\n"
     ]
    }
   ],
   "source": [
    "biking_sites.info()"
   ]
  },
  {
   "cell_type": "code",
   "execution_count": 10,
   "id": "fc218766",
   "metadata": {},
   "outputs": [
    {
     "data": {
      "text/plain": [
       "UnqID                      0\n",
       "ProgID                     0\n",
       "SurveyDescription          0\n",
       "Easting                    0\n",
       "Northing                   0\n",
       "Location                   0\n",
       "Borough                    0\n",
       "Functional cycling area    2\n",
       "dtype: int64"
      ]
     },
     "execution_count": 10,
     "metadata": {},
     "output_type": "execute_result"
    }
   ],
   "source": [
    "# Missing Values for biking sites\n",
    "missing_values_biking_sites = biking_sites.isnull().sum()\n",
    "\n",
    "# Displaying the columns with missing values and their count\n",
    "missing_values_biking_sites"
   ]
  },
  {
   "cell_type": "markdown",
   "id": "1da97eed",
   "metadata": {},
   "source": [
    "##### Outer London"
   ]
  },
  {
   "cell_type": "code",
   "execution_count": 11,
   "id": "ccc89576",
   "metadata": {},
   "outputs": [
    {
     "name": "stdout",
     "output_type": "stream",
     "text": [
      "(375660, 14)\n",
      "Index(['Survey wave (year)', 'Site ID', 'Location', 'Survey date', 'Weather',\n",
      "       'Time', 'Period', 'Direction', 'Start hour', 'Start minute',\n",
      "       'Number of male cycles', 'Number of female cycles',\n",
      "       'Number of unknown cycles', 'Total cycles'],\n",
      "      dtype='object')\n"
     ]
    }
   ],
   "source": [
    "# Determine the metadata of the data sets\n",
    "print(outer_london.shape)\n",
    "print(outer_london.columns)"
   ]
  },
  {
   "cell_type": "code",
   "execution_count": 12,
   "id": "7a19dc68",
   "metadata": {},
   "outputs": [
    {
     "name": "stdout",
     "output_type": "stream",
     "text": [
      "<class 'pandas.core.frame.DataFrame'>\n",
      "RangeIndex: 375660 entries, 0 to 375659\n",
      "Data columns (total 14 columns):\n",
      " #   Column                    Non-Null Count   Dtype \n",
      "---  ------                    --------------   ----- \n",
      " 0   Survey wave (year)        375660 non-null  int64 \n",
      " 1   Site ID                   375660 non-null  object\n",
      " 2   Location                  375660 non-null  object\n",
      " 3   Survey date               374492 non-null  object\n",
      " 4   Weather                   374692 non-null  object\n",
      " 5   Time                      375660 non-null  object\n",
      " 6   Period                    375660 non-null  object\n",
      " 7   Direction                 375660 non-null  object\n",
      " 8   Start hour                375660 non-null  int64 \n",
      " 9   Start minute              375660 non-null  int64 \n",
      " 10  Number of male cycles     375660 non-null  int64 \n",
      " 11  Number of female cycles   375660 non-null  int64 \n",
      " 12  Number of unknown cycles  375660 non-null  int64 \n",
      " 13  Total cycles              375660 non-null  int64 \n",
      "dtypes: int64(7), object(7)\n",
      "memory usage: 40.1+ MB\n"
     ]
    }
   ],
   "source": [
    "outer_london.info()"
   ]
  },
  {
   "cell_type": "code",
   "execution_count": 13,
   "id": "722518e9",
   "metadata": {},
   "outputs": [
    {
     "data": {
      "text/plain": [
       "Survey wave (year)             0\n",
       "Site ID                        0\n",
       "Location                       0\n",
       "Survey date                 1168\n",
       "Weather                      968\n",
       "Time                           0\n",
       "Period                         0\n",
       "Direction                      0\n",
       "Start hour                     0\n",
       "Start minute                   0\n",
       "Number of male cycles          0\n",
       "Number of female cycles        0\n",
       "Number of unknown cycles       0\n",
       "Total cycles                   0\n",
       "dtype: int64"
      ]
     },
     "execution_count": 13,
     "metadata": {},
     "output_type": "execute_result"
    }
   ],
   "source": [
    "# Missing values for outer london\n",
    "missing_values_outer_london = outer_london.isnull().sum()\n",
    "\n",
    "# Display the columns with missing values and their count\n",
    "missing_values_outer_london"
   ]
  },
  {
   "cell_type": "markdown",
   "id": "57e843ed",
   "metadata": {},
   "source": [
    "##### Inner London"
   ]
  },
  {
   "cell_type": "code",
   "execution_count": 14,
   "id": "dcc14a79",
   "metadata": {},
   "outputs": [
    {
     "name": "stdout",
     "output_type": "stream",
     "text": [
      "(615168, 13)\n",
      "Index(['Survey wave (year)', 'Site ID', 'Location', 'Survey date', 'Weather',\n",
      "       'Time', 'Period', 'Direction', 'Start hour', 'Start minute',\n",
      "       'Number of private cycles', 'Number of cycle hire bikes',\n",
      "       'Total cycles'],\n",
      "      dtype='object')\n"
     ]
    }
   ],
   "source": [
    "# Determine the metadata of the data sets\n",
    "print(inner_london.shape)\n",
    "print(inner_london.columns)"
   ]
  },
  {
   "cell_type": "code",
   "execution_count": 15,
   "id": "bab7a252",
   "metadata": {},
   "outputs": [
    {
     "name": "stdout",
     "output_type": "stream",
     "text": [
      "<class 'pandas.core.frame.DataFrame'>\n",
      "RangeIndex: 615168 entries, 0 to 615167\n",
      "Data columns (total 13 columns):\n",
      " #   Column                      Non-Null Count   Dtype  \n",
      "---  ------                      --------------   -----  \n",
      " 0   Survey wave (year)          523776 non-null  float64\n",
      " 1   Site ID                     523776 non-null  object \n",
      " 2   Location                    523776 non-null  object \n",
      " 3   Survey date                 521024 non-null  object \n",
      " 4   Weather                     519102 non-null  object \n",
      " 5   Time                        523770 non-null  object \n",
      " 6   Period                      523770 non-null  object \n",
      " 7   Direction                   523776 non-null  object \n",
      " 8   Start hour                  523770 non-null  float64\n",
      " 9   Start minute                523770 non-null  float64\n",
      " 10  Number of private cycles    523776 non-null  float64\n",
      " 11  Number of cycle hire bikes  523776 non-null  float64\n",
      " 12  Total cycles                523776 non-null  float64\n",
      "dtypes: float64(6), object(7)\n",
      "memory usage: 61.0+ MB\n"
     ]
    }
   ],
   "source": [
    "inner_london.info()"
   ]
  },
  {
   "cell_type": "code",
   "execution_count": 16,
   "id": "7be4caab",
   "metadata": {},
   "outputs": [
    {
     "data": {
      "text/plain": [
       "Survey wave (year)            91392\n",
       "Site ID                       91392\n",
       "Location                      91392\n",
       "Survey date                   94144\n",
       "Weather                       96066\n",
       "Time                          91398\n",
       "Period                        91398\n",
       "Direction                     91392\n",
       "Start hour                    91398\n",
       "Start minute                  91398\n",
       "Number of private cycles      91392\n",
       "Number of cycle hire bikes    91392\n",
       "Total cycles                  91392\n",
       "dtype: int64"
      ]
     },
     "execution_count": 16,
     "metadata": {},
     "output_type": "execute_result"
    }
   ],
   "source": [
    "# missing values for inner london\n",
    "missing_values_inner_london = inner_london.isnull().sum()\n",
    "\n",
    "# Display the columns with missing values and their count\n",
    "missing_values_inner_london"
   ]
  },
  {
   "cell_type": "markdown",
   "id": "e1f63fbb",
   "metadata": {},
   "source": [
    "##### Central London"
   ]
  },
  {
   "cell_type": "code",
   "execution_count": 17,
   "id": "80a850a0",
   "metadata": {},
   "outputs": [
    {
     "name": "stdout",
     "output_type": "stream",
     "text": [
      "(1048366, 17)\n",
      "Index(['Survey wave (calendar quarter)', 'Equivalent financial quarter',\n",
      "       'Site ID', 'Location', 'Survey date', 'Weather', 'Time', 'Period',\n",
      "       'Direction', 'Start hour', 'Start minute', 'Number of private cycles',\n",
      "       'Number of cycle hire bikes', 'Total cycles', 'Unnamed: 14',\n",
      "       'Unnamed: 15', 'Unnamed: 16'],\n",
      "      dtype='object')\n"
     ]
    }
   ],
   "source": [
    "# Determine the metadata of the data sets\n",
    "print(central_london.shape)\n",
    "print(central_london.columns)"
   ]
  },
  {
   "cell_type": "code",
   "execution_count": 18,
   "id": "f507b5a0",
   "metadata": {},
   "outputs": [
    {
     "name": "stdout",
     "output_type": "stream",
     "text": [
      "<class 'pandas.core.frame.DataFrame'>\n",
      "RangeIndex: 1048366 entries, 0 to 1048365\n",
      "Data columns (total 17 columns):\n",
      " #   Column                          Non-Null Count   Dtype  \n",
      "---  ------                          --------------   -----  \n",
      " 0   Survey wave (calendar quarter)  758163 non-null  object \n",
      " 1   Equivalent financial quarter    758163 non-null  object \n",
      " 2   Site ID                         758163 non-null  object \n",
      " 3   Location                        758163 non-null  object \n",
      " 4   Survey date                     748007 non-null  object \n",
      " 5   Weather                         746329 non-null  object \n",
      " 6   Time                            758163 non-null  object \n",
      " 7   Period                          758163 non-null  object \n",
      " 8   Direction                       758163 non-null  object \n",
      " 9   Start hour                      758163 non-null  float64\n",
      " 10  Start minute                    758163 non-null  float64\n",
      " 11  Number of private cycles        758099 non-null  float64\n",
      " 12  Number of cycle hire bikes      758099 non-null  float64\n",
      " 13  Total cycles                    758163 non-null  float64\n",
      " 14  Unnamed: 14                     0 non-null       float64\n",
      " 15  Unnamed: 15                     0 non-null       float64\n",
      " 16  Unnamed: 16                     0 non-null       float64\n",
      "dtypes: float64(8), object(9)\n",
      "memory usage: 136.0+ MB\n"
     ]
    }
   ],
   "source": [
    "central_london.info()"
   ]
  },
  {
   "cell_type": "code",
   "execution_count": 19,
   "id": "95a0d915",
   "metadata": {},
   "outputs": [
    {
     "data": {
      "text/plain": [
       "Survey wave (calendar quarter)     290203\n",
       "Equivalent financial quarter       290203\n",
       "Site ID                            290203\n",
       "Location                           290203\n",
       "Survey date                        300359\n",
       "Weather                            302037\n",
       "Time                               290203\n",
       "Period                             290203\n",
       "Direction                          290203\n",
       "Start hour                         290203\n",
       "Start minute                       290203\n",
       "Number of private cycles           290267\n",
       "Number of cycle hire bikes         290267\n",
       "Total cycles                       290203\n",
       "Unnamed: 14                       1048366\n",
       "Unnamed: 15                       1048366\n",
       "Unnamed: 16                       1048366\n",
       "dtype: int64"
      ]
     },
     "execution_count": 19,
     "metadata": {},
     "output_type": "execute_result"
    }
   ],
   "source": [
    "# missing values for central london\n",
    "missing_values_central_london = central_london.isnull().sum()\n",
    "\n",
    "# Display the columns within missing values and their count\n",
    "missing_values_central_london"
   ]
  },
  {
   "cell_type": "markdown",
   "id": "46dfcd9c",
   "metadata": {},
   "source": [
    "\n",
    "# Comparison of  number of journeys completed by bike in central, inner & outer london.  \n",
    "\n",
    "Hypothesis we are trying to solve for is 'More journeys are completed by bike in central London than outer London as journeys are typically shorter’"
   ]
  },
  {
   "cell_type": "markdown",
   "id": "2043cca1",
   "metadata": {},
   "source": [
    "### Central London"
   ]
  },
  {
   "cell_type": "code",
   "execution_count": 20,
   "id": "387d425f",
   "metadata": {},
   "outputs": [
    {
     "data": {
      "text/html": [
       "<div>\n",
       "<style scoped>\n",
       "    .dataframe tbody tr th:only-of-type {\n",
       "        vertical-align: middle;\n",
       "    }\n",
       "\n",
       "    .dataframe tbody tr th {\n",
       "        vertical-align: top;\n",
       "    }\n",
       "\n",
       "    .dataframe thead th {\n",
       "        text-align: right;\n",
       "    }\n",
       "</style>\n",
       "<table border=\"1\" class=\"dataframe\">\n",
       "  <thead>\n",
       "    <tr style=\"text-align: right;\">\n",
       "      <th></th>\n",
       "      <th>Survey wave (calendar quarter)</th>\n",
       "      <th>Equivalent financial quarter</th>\n",
       "      <th>Site ID</th>\n",
       "      <th>Location</th>\n",
       "      <th>Survey_date</th>\n",
       "      <th>Survey_weekday</th>\n",
       "      <th>Weather</th>\n",
       "      <th>Time</th>\n",
       "      <th>Period</th>\n",
       "      <th>Direction</th>\n",
       "      <th>Start time</th>\n",
       "      <th>Number of private cycles</th>\n",
       "      <th>Number of cycle hire bikes</th>\n",
       "      <th>Total cycles</th>\n",
       "    </tr>\n",
       "  </thead>\n",
       "  <tbody>\n",
       "    <tr>\n",
       "      <th>0</th>\n",
       "      <td>2014 Q1 (January-March)</td>\n",
       "      <td>2013-14 Q4</td>\n",
       "      <td>CENCY001</td>\n",
       "      <td>Millbank (south of Thorney Street)</td>\n",
       "      <td>24/01/14</td>\n",
       "      <td>Friday</td>\n",
       "      <td>Dry</td>\n",
       "      <td>0600 - 0615</td>\n",
       "      <td>Early Morning</td>\n",
       "      <td>Northbound</td>\n",
       "      <td>06:00</td>\n",
       "      <td>0</td>\n",
       "      <td>0</td>\n",
       "      <td>0</td>\n",
       "    </tr>\n",
       "    <tr>\n",
       "      <th>1</th>\n",
       "      <td>2014 Q1 (January-March)</td>\n",
       "      <td>2013-14 Q4</td>\n",
       "      <td>CENCY001</td>\n",
       "      <td>Millbank (south of Thorney Street)</td>\n",
       "      <td>24/01/14</td>\n",
       "      <td>Friday</td>\n",
       "      <td>Dry</td>\n",
       "      <td>0615 - 0630</td>\n",
       "      <td>Early Morning</td>\n",
       "      <td>Northbound</td>\n",
       "      <td>06:15</td>\n",
       "      <td>15</td>\n",
       "      <td>0</td>\n",
       "      <td>15</td>\n",
       "    </tr>\n",
       "    <tr>\n",
       "      <th>2</th>\n",
       "      <td>2014 Q1 (January-March)</td>\n",
       "      <td>2013-14 Q4</td>\n",
       "      <td>CENCY001</td>\n",
       "      <td>Millbank (south of Thorney Street)</td>\n",
       "      <td>24/01/14</td>\n",
       "      <td>Friday</td>\n",
       "      <td>Dry</td>\n",
       "      <td>0630 - 0645</td>\n",
       "      <td>Early Morning</td>\n",
       "      <td>Northbound</td>\n",
       "      <td>06:30</td>\n",
       "      <td>35</td>\n",
       "      <td>0</td>\n",
       "      <td>35</td>\n",
       "    </tr>\n",
       "    <tr>\n",
       "      <th>3</th>\n",
       "      <td>2014 Q1 (January-March)</td>\n",
       "      <td>2013-14 Q4</td>\n",
       "      <td>CENCY001</td>\n",
       "      <td>Millbank (south of Thorney Street)</td>\n",
       "      <td>24/01/14</td>\n",
       "      <td>Friday</td>\n",
       "      <td>Dry</td>\n",
       "      <td>0645 - 0700</td>\n",
       "      <td>Early Morning</td>\n",
       "      <td>Northbound</td>\n",
       "      <td>06:45</td>\n",
       "      <td>59</td>\n",
       "      <td>2</td>\n",
       "      <td>61</td>\n",
       "    </tr>\n",
       "    <tr>\n",
       "      <th>4</th>\n",
       "      <td>2014 Q1 (January-March)</td>\n",
       "      <td>2013-14 Q4</td>\n",
       "      <td>CENCY001</td>\n",
       "      <td>Millbank (south of Thorney Street)</td>\n",
       "      <td>24/01/14</td>\n",
       "      <td>Friday</td>\n",
       "      <td>Dry</td>\n",
       "      <td>0700 - 0715</td>\n",
       "      <td>AM peak</td>\n",
       "      <td>Northbound</td>\n",
       "      <td>07:00</td>\n",
       "      <td>73</td>\n",
       "      <td>0</td>\n",
       "      <td>73</td>\n",
       "    </tr>\n",
       "  </tbody>\n",
       "</table>\n",
       "</div>"
      ],
      "text/plain": [
       "  Survey wave (calendar quarter) Equivalent financial quarter   Site ID  \\\n",
       "0        2014 Q1 (January-March)                   2013-14 Q4  CENCY001   \n",
       "1        2014 Q1 (January-March)                   2013-14 Q4  CENCY001   \n",
       "2        2014 Q1 (January-March)                   2013-14 Q4  CENCY001   \n",
       "3        2014 Q1 (January-March)                   2013-14 Q4  CENCY001   \n",
       "4        2014 Q1 (January-March)                   2013-14 Q4  CENCY001   \n",
       "\n",
       "                             Location Survey_date Survey_weekday Weather  \\\n",
       "0  Millbank (south of Thorney Street)    24/01/14         Friday     Dry   \n",
       "1  Millbank (south of Thorney Street)    24/01/14         Friday     Dry   \n",
       "2  Millbank (south of Thorney Street)    24/01/14         Friday     Dry   \n",
       "3  Millbank (south of Thorney Street)    24/01/14         Friday     Dry   \n",
       "4  Millbank (south of Thorney Street)    24/01/14         Friday     Dry   \n",
       "\n",
       "          Time         Period   Direction Start time  \\\n",
       "0  0600 - 0615  Early Morning  Northbound      06:00   \n",
       "1  0615 - 0630  Early Morning  Northbound      06:15   \n",
       "2  0630 - 0645  Early Morning  Northbound      06:30   \n",
       "3  0645 - 0700  Early Morning  Northbound      06:45   \n",
       "4  0700 - 0715        AM peak  Northbound      07:00   \n",
       "\n",
       "   Number of private cycles  Number of cycle hire bikes  Total cycles  \n",
       "0                         0                           0             0  \n",
       "1                        15                           0            15  \n",
       "2                        35                           0            35  \n",
       "3                        59                           2            61  \n",
       "4                        73                           0            73  "
      ]
     },
     "execution_count": 20,
     "metadata": {},
     "output_type": "execute_result"
    }
   ],
   "source": [
    "# Load the cleaned central london file\n",
    "clean_central_london = pd.read_csv('cleaned_central_london.csv')\n",
    "\n",
    "#view the dataframe\n",
    "clean_central_london.head()"
   ]
  },
  {
   "cell_type": "code",
   "execution_count": 21,
   "id": "e9019d1a",
   "metadata": {},
   "outputs": [
    {
     "data": {
      "text/html": [
       "<div>\n",
       "<style scoped>\n",
       "    .dataframe tbody tr th:only-of-type {\n",
       "        vertical-align: middle;\n",
       "    }\n",
       "\n",
       "    .dataframe tbody tr th {\n",
       "        vertical-align: top;\n",
       "    }\n",
       "\n",
       "    .dataframe thead th {\n",
       "        text-align: right;\n",
       "    }\n",
       "</style>\n",
       "<table border=\"1\" class=\"dataframe\">\n",
       "  <thead>\n",
       "    <tr style=\"text-align: right;\">\n",
       "      <th></th>\n",
       "      <th>Number of private cycles</th>\n",
       "      <th>Number of cycle hire bikes</th>\n",
       "      <th>Total cycles</th>\n",
       "    </tr>\n",
       "  </thead>\n",
       "  <tbody>\n",
       "    <tr>\n",
       "      <th>count</th>\n",
       "      <td>758163.000000</td>\n",
       "      <td>758163.000000</td>\n",
       "      <td>758163.000000</td>\n",
       "    </tr>\n",
       "    <tr>\n",
       "      <th>mean</th>\n",
       "      <td>14.823122</td>\n",
       "      <td>1.829918</td>\n",
       "      <td>16.653040</td>\n",
       "    </tr>\n",
       "    <tr>\n",
       "      <th>std</th>\n",
       "      <td>26.255103</td>\n",
       "      <td>3.321462</td>\n",
       "      <td>28.675116</td>\n",
       "    </tr>\n",
       "    <tr>\n",
       "      <th>min</th>\n",
       "      <td>0.000000</td>\n",
       "      <td>0.000000</td>\n",
       "      <td>0.000000</td>\n",
       "    </tr>\n",
       "    <tr>\n",
       "      <th>25%</th>\n",
       "      <td>2.000000</td>\n",
       "      <td>0.000000</td>\n",
       "      <td>3.000000</td>\n",
       "    </tr>\n",
       "    <tr>\n",
       "      <th>50%</th>\n",
       "      <td>7.000000</td>\n",
       "      <td>1.000000</td>\n",
       "      <td>8.000000</td>\n",
       "    </tr>\n",
       "    <tr>\n",
       "      <th>75%</th>\n",
       "      <td>16.000000</td>\n",
       "      <td>2.000000</td>\n",
       "      <td>18.000000</td>\n",
       "    </tr>\n",
       "    <tr>\n",
       "      <th>max</th>\n",
       "      <td>1177.000000</td>\n",
       "      <td>108.000000</td>\n",
       "      <td>1200.000000</td>\n",
       "    </tr>\n",
       "  </tbody>\n",
       "</table>\n",
       "</div>"
      ],
      "text/plain": [
       "       Number of private cycles  Number of cycle hire bikes   Total cycles\n",
       "count             758163.000000               758163.000000  758163.000000\n",
       "mean                  14.823122                    1.829918      16.653040\n",
       "std                   26.255103                    3.321462      28.675116\n",
       "min                    0.000000                    0.000000       0.000000\n",
       "25%                    2.000000                    0.000000       3.000000\n",
       "50%                    7.000000                    1.000000       8.000000\n",
       "75%                   16.000000                    2.000000      18.000000\n",
       "max                 1177.000000                  108.000000    1200.000000"
      ]
     },
     "execution_count": 21,
     "metadata": {},
     "output_type": "execute_result"
    }
   ],
   "source": [
    "# descriptive stats\n",
    "clean_central_london.describe()"
   ]
  },
  {
   "cell_type": "code",
   "execution_count": 22,
   "id": "2bd1ef60",
   "metadata": {},
   "outputs": [
    {
     "data": {
      "text/plain": [
       "12625719"
      ]
     },
     "execution_count": 22,
     "metadata": {},
     "output_type": "execute_result"
    }
   ],
   "source": [
    "# Total count of cycles\n",
    "total_cycles_count = clean_central_london['Total cycles'].sum()\n",
    "\n",
    "total_cycles_count"
   ]
  },
  {
   "cell_type": "code",
   "execution_count": 23,
   "id": "57d8c750",
   "metadata": {},
   "outputs": [
    {
     "data": {
      "text/plain": [
       "Period\n",
       "AM peak          29.832285\n",
       "Early Morning     6.722717\n",
       "Evening          12.428544\n",
       "Inter-peak        8.039593\n",
       "PM peak          28.236652\n",
       "Name: Total cycles, dtype: float64"
      ]
     },
     "execution_count": 23,
     "metadata": {},
     "output_type": "execute_result"
    }
   ],
   "source": [
    "# Average number of cycles per period\n",
    "average_cycles_per_period = clean_central_london.groupby('Period')['Total cycles'].mean()\n",
    "\n",
    "average_cycles_per_period"
   ]
  },
  {
   "cell_type": "code",
   "execution_count": 24,
   "id": "920d0646",
   "metadata": {},
   "outputs": [
    {
     "data": {
      "text/plain": [
       "Weather\n",
       "Cold             22197\n",
       "Dry           10797975\n",
       "Fine/Sunny      391390\n",
       "Mixed             9130\n",
       "Unknown           2674\n",
       "Wet            1402353\n",
       "Name: Total cycles, dtype: int64"
      ]
     },
     "execution_count": 24,
     "metadata": {},
     "output_type": "execute_result"
    }
   ],
   "source": [
    "# Distribution of cycling based on weather conditions\n",
    "weather_distribution = clean_central_london.groupby('Weather')['Total cycles'].sum()\n",
    "\n",
    "weather_distribution"
   ]
  },
  {
   "cell_type": "code",
   "execution_count": 25,
   "id": "1ac5e11d",
   "metadata": {},
   "outputs": [
    {
     "data": {
      "text/plain": [
       "Number of private cycles      11238343\n",
       "Number of cycle hire bikes     1387376\n",
       "dtype: int64"
      ]
     },
     "execution_count": 25,
     "metadata": {},
     "output_type": "execute_result"
    }
   ],
   "source": [
    "# Comparison between the usage of private cycles and cycle hire bikes\n",
    "private_vs_hire = clean_central_london[['Number of private cycles', 'Number of cycle hire bikes']].sum()\n",
    "\n",
    "private_vs_hire"
   ]
  },
  {
   "cell_type": "code",
   "execution_count": 55,
   "id": "0565e608",
   "metadata": {},
   "outputs": [
    {
     "data": {
      "image/png": "[encoded data removed]",
      "text/plain": [
       "<Figure size 900x500 with 1 Axes>"
      ]
     },
     "metadata": {},
     "output_type": "display_data"
    }
   ],
   "source": [
    "# Plotting the distribution of cycling based on weather conditions\n",
    "plt.figure(figsize=(9, 5))\n",
    "weather_distribution.plot(kind='bar', color='skyblue')\n",
    "plt.title('Distribution of Total Cycles Based on Weather Conditions')\n",
    "plt.xlabel('Weather Condition')\n",
    "plt.ylabel('Total Number of Cycles')\n",
    "plt.xticks(rotation=45)\n",
    "plt.tight_layout()\n",
    "\n",
    "# Save the plot to a file\n",
    "plt.savefig('weather_distribution_plot.png')\n",
    "\n",
    "# Show the plot\n",
    "plt.show()"
   ]
  },
  {
   "cell_type": "code",
   "execution_count": 56,
   "id": "c628dff2",
   "metadata": {},
   "outputs": [
    {
     "data": {
      "image/png": "[encoded data removed]",
      "text/plain": [
       "<Figure size 900x500 with 1 Axes>"
      ]
     },
     "metadata": {},
     "output_type": "display_data"
    }
   ],
   "source": [
    "# Plotting the comparison between usage of private cycles and cycle hire bikes\n",
    "plt.figure(figsize=(9, 5))\n",
    "private_vs_hire.plot(kind='bar', color=['green', 'orange'])\n",
    "plt.title('Comparison Between Usage of Private Cycles and Cycle Hire Bikes')\n",
    "plt.xlabel('Type of Cycles')\n",
    "plt.ylabel('Total Count')\n",
    "plt.xticks(rotation=0)\n",
    "plt.tight_layout() \n",
    "\n",
    "# Save the plot to a file\n",
    "plt.savefig('private_vs_hire_plot.png')\n",
    "\n",
    "\n",
    "# Show the plot\n",
    "plt.show()"
   ]
  },
  {
   "cell_type": "markdown",
   "id": "ed00368b",
   "metadata": {},
   "source": [
    "### Inner London"
   ]
  },
  {
   "cell_type": "code",
   "execution_count": 28,
   "id": "569b2982",
   "metadata": {},
   "outputs": [
    {
     "data": {
      "text/html": [
       "<div>\n",
       "<style scoped>\n",
       "    .dataframe tbody tr th:only-of-type {\n",
       "        vertical-align: middle;\n",
       "    }\n",
       "\n",
       "    .dataframe tbody tr th {\n",
       "        vertical-align: top;\n",
       "    }\n",
       "\n",
       "    .dataframe thead th {\n",
       "        text-align: right;\n",
       "    }\n",
       "</style>\n",
       "<table border=\"1\" class=\"dataframe\">\n",
       "  <thead>\n",
       "    <tr style=\"text-align: right;\">\n",
       "      <th></th>\n",
       "      <th>Survey wave (year)</th>\n",
       "      <th>Site ID</th>\n",
       "      <th>Location</th>\n",
       "      <th>Survey_weekday</th>\n",
       "      <th>Survey_date</th>\n",
       "      <th>Weather</th>\n",
       "      <th>Time</th>\n",
       "      <th>Period</th>\n",
       "      <th>Direction</th>\n",
       "      <th>Start time</th>\n",
       "      <th>Number of private cycles</th>\n",
       "      <th>Number of cycle hire bikes</th>\n",
       "      <th>Total cycles</th>\n",
       "    </tr>\n",
       "  </thead>\n",
       "  <tbody>\n",
       "    <tr>\n",
       "      <th>0</th>\n",
       "      <td>2015</td>\n",
       "      <td>INNCY001</td>\n",
       "      <td>Grove Road</td>\n",
       "      <td>Wednesday</td>\n",
       "      <td>20/05/15</td>\n",
       "      <td>Dry</td>\n",
       "      <td>0600 - 0615</td>\n",
       "      <td>Early Morning</td>\n",
       "      <td>Northbound</td>\n",
       "      <td>06:00</td>\n",
       "      <td>1</td>\n",
       "      <td>0</td>\n",
       "      <td>1</td>\n",
       "    </tr>\n",
       "    <tr>\n",
       "      <th>1</th>\n",
       "      <td>2015</td>\n",
       "      <td>INNCY001</td>\n",
       "      <td>Grove Road</td>\n",
       "      <td>Wednesday</td>\n",
       "      <td>20/05/15</td>\n",
       "      <td>Dry</td>\n",
       "      <td>0615 - 0630</td>\n",
       "      <td>Early Morning</td>\n",
       "      <td>Northbound</td>\n",
       "      <td>06:15</td>\n",
       "      <td>2</td>\n",
       "      <td>0</td>\n",
       "      <td>2</td>\n",
       "    </tr>\n",
       "    <tr>\n",
       "      <th>2</th>\n",
       "      <td>2015</td>\n",
       "      <td>INNCY001</td>\n",
       "      <td>Grove Road</td>\n",
       "      <td>Wednesday</td>\n",
       "      <td>20/05/15</td>\n",
       "      <td>Dry</td>\n",
       "      <td>0630 - 0645</td>\n",
       "      <td>Early Morning</td>\n",
       "      <td>Northbound</td>\n",
       "      <td>06:30</td>\n",
       "      <td>2</td>\n",
       "      <td>0</td>\n",
       "      <td>2</td>\n",
       "    </tr>\n",
       "    <tr>\n",
       "      <th>3</th>\n",
       "      <td>2015</td>\n",
       "      <td>INNCY001</td>\n",
       "      <td>Grove Road</td>\n",
       "      <td>Wednesday</td>\n",
       "      <td>20/05/15</td>\n",
       "      <td>Dry</td>\n",
       "      <td>0645 - 0700</td>\n",
       "      <td>Early Morning</td>\n",
       "      <td>Northbound</td>\n",
       "      <td>06:45</td>\n",
       "      <td>4</td>\n",
       "      <td>0</td>\n",
       "      <td>4</td>\n",
       "    </tr>\n",
       "    <tr>\n",
       "      <th>4</th>\n",
       "      <td>2015</td>\n",
       "      <td>INNCY001</td>\n",
       "      <td>Grove Road</td>\n",
       "      <td>Wednesday</td>\n",
       "      <td>20/05/15</td>\n",
       "      <td>Dry</td>\n",
       "      <td>0700 - 0715</td>\n",
       "      <td>AM peak</td>\n",
       "      <td>Northbound</td>\n",
       "      <td>07:00</td>\n",
       "      <td>4</td>\n",
       "      <td>0</td>\n",
       "      <td>4</td>\n",
       "    </tr>\n",
       "  </tbody>\n",
       "</table>\n",
       "</div>"
      ],
      "text/plain": [
       "   Survey wave (year)   Site ID    Location Survey_weekday Survey_date  \\\n",
       "0                2015  INNCY001  Grove Road      Wednesday    20/05/15   \n",
       "1                2015  INNCY001  Grove Road      Wednesday    20/05/15   \n",
       "2                2015  INNCY001  Grove Road      Wednesday    20/05/15   \n",
       "3                2015  INNCY001  Grove Road      Wednesday    20/05/15   \n",
       "4                2015  INNCY001  Grove Road      Wednesday    20/05/15   \n",
       "\n",
       "  Weather         Time         Period   Direction Start time  \\\n",
       "0     Dry  0600 - 0615  Early Morning  Northbound      06:00   \n",
       "1     Dry  0615 - 0630  Early Morning  Northbound      06:15   \n",
       "2     Dry  0630 - 0645  Early Morning  Northbound      06:30   \n",
       "3     Dry  0645 - 0700  Early Morning  Northbound      06:45   \n",
       "4     Dry  0700 - 0715        AM peak  Northbound      07:00   \n",
       "\n",
       "   Number of private cycles  Number of cycle hire bikes  Total cycles  \n",
       "0                         1                           0             1  \n",
       "1                         2                           0             2  \n",
       "2                         2                           0             2  \n",
       "3                         4                           0             4  \n",
       "4                         4                           0             4  "
      ]
     },
     "execution_count": 28,
     "metadata": {},
     "output_type": "execute_result"
    }
   ],
   "source": [
    "# Load the cleaned central london file\n",
    "cleaned_inner_london = pd.read_csv('cleaned_inner_london.csv')\n",
    "\n",
    "#view the dataframe\n",
    "cleaned_inner_london.head()"
   ]
  },
  {
   "cell_type": "code",
   "execution_count": 29,
   "id": "95329105",
   "metadata": {},
   "outputs": [
    {
     "data": {
      "text/html": [
       "<div>\n",
       "<style scoped>\n",
       "    .dataframe tbody tr th:only-of-type {\n",
       "        vertical-align: middle;\n",
       "    }\n",
       "\n",
       "    .dataframe tbody tr th {\n",
       "        vertical-align: top;\n",
       "    }\n",
       "\n",
       "    .dataframe thead th {\n",
       "        text-align: right;\n",
       "    }\n",
       "</style>\n",
       "<table border=\"1\" class=\"dataframe\">\n",
       "  <thead>\n",
       "    <tr style=\"text-align: right;\">\n",
       "      <th></th>\n",
       "      <th>Survey wave (year)</th>\n",
       "      <th>Number of private cycles</th>\n",
       "      <th>Number of cycle hire bikes</th>\n",
       "      <th>Total cycles</th>\n",
       "    </tr>\n",
       "  </thead>\n",
       "  <tbody>\n",
       "    <tr>\n",
       "      <th>count</th>\n",
       "      <td>523776.000000</td>\n",
       "      <td>523776.000000</td>\n",
       "      <td>523776.000000</td>\n",
       "      <td>523776.000000</td>\n",
       "    </tr>\n",
       "    <tr>\n",
       "      <th>mean</th>\n",
       "      <td>2017.986070</td>\n",
       "      <td>5.929833</td>\n",
       "      <td>0.267943</td>\n",
       "      <td>6.196408</td>\n",
       "    </tr>\n",
       "    <tr>\n",
       "      <th>std</th>\n",
       "      <td>2.035381</td>\n",
       "      <td>10.937833</td>\n",
       "      <td>0.944529</td>\n",
       "      <td>11.309639</td>\n",
       "    </tr>\n",
       "    <tr>\n",
       "      <th>min</th>\n",
       "      <td>2015.000000</td>\n",
       "      <td>0.000000</td>\n",
       "      <td>0.000000</td>\n",
       "      <td>0.000000</td>\n",
       "    </tr>\n",
       "    <tr>\n",
       "      <th>25%</th>\n",
       "      <td>2016.000000</td>\n",
       "      <td>1.000000</td>\n",
       "      <td>0.000000</td>\n",
       "      <td>1.000000</td>\n",
       "    </tr>\n",
       "    <tr>\n",
       "      <th>50%</th>\n",
       "      <td>2018.000000</td>\n",
       "      <td>3.000000</td>\n",
       "      <td>0.000000</td>\n",
       "      <td>3.000000</td>\n",
       "    </tr>\n",
       "    <tr>\n",
       "      <th>75%</th>\n",
       "      <td>2020.000000</td>\n",
       "      <td>7.000000</td>\n",
       "      <td>0.000000</td>\n",
       "      <td>7.000000</td>\n",
       "    </tr>\n",
       "    <tr>\n",
       "      <th>max</th>\n",
       "      <td>2021.000000</td>\n",
       "      <td>278.000000</td>\n",
       "      <td>29.000000</td>\n",
       "      <td>280.000000</td>\n",
       "    </tr>\n",
       "  </tbody>\n",
       "</table>\n",
       "</div>"
      ],
      "text/plain": [
       "       Survey wave (year)  Number of private cycles  \\\n",
       "count       523776.000000             523776.000000   \n",
       "mean          2017.986070                  5.929833   \n",
       "std              2.035381                 10.937833   \n",
       "min           2015.000000                  0.000000   \n",
       "25%           2016.000000                  1.000000   \n",
       "50%           2018.000000                  3.000000   \n",
       "75%           2020.000000                  7.000000   \n",
       "max           2021.000000                278.000000   \n",
       "\n",
       "       Number of cycle hire bikes   Total cycles  \n",
       "count               523776.000000  523776.000000  \n",
       "mean                     0.267943       6.196408  \n",
       "std                      0.944529      11.309639  \n",
       "min                      0.000000       0.000000  \n",
       "25%                      0.000000       1.000000  \n",
       "50%                      0.000000       3.000000  \n",
       "75%                      0.000000       7.000000  \n",
       "max                     29.000000     280.000000  "
      ]
     },
     "execution_count": 29,
     "metadata": {},
     "output_type": "execute_result"
    }
   ],
   "source": [
    "# descriptive stats\n",
    "cleaned_inner_london.describe()"
   ]
  },
  {
   "cell_type": "code",
   "execution_count": 30,
   "id": "7e1b3b9e",
   "metadata": {},
   "outputs": [
    {
     "data": {
      "text/plain": [
       "3245530"
      ]
     },
     "execution_count": 30,
     "metadata": {},
     "output_type": "execute_result"
    }
   ],
   "source": [
    "# Total count of cycles inner london\n",
    "total_cycles_count_inner = cleaned_inner_london['Total cycles'].sum()\n",
    "\n",
    "total_cycles_count_inner"
   ]
  },
  {
   "cell_type": "code",
   "execution_count": 31,
   "id": "e170eb75",
   "metadata": {},
   "outputs": [
    {
     "data": {
      "text/plain": [
       "Period\n",
       "AM peak           9.631995\n",
       "Early Morning     3.058315\n",
       "Evening           5.428474\n",
       "Inter-peak        3.614787\n",
       "PM peak           9.737750\n",
       "unknown          10.000000\n",
       "Name: Total cycles, dtype: float64"
      ]
     },
     "execution_count": 31,
     "metadata": {},
     "output_type": "execute_result"
    }
   ],
   "source": [
    "# Average number of cycles per time period for the new dataset\n",
    "average_cycles_per_period_inner = cleaned_inner_london.groupby('Period')['Total cycles'].mean()\n",
    "\n",
    "average_cycles_per_period_inner"
   ]
  },
  {
   "cell_type": "code",
   "execution_count": 32,
   "id": "9d126799",
   "metadata": {},
   "outputs": [
    {
     "data": {
      "text/plain": [
       "Weather\n",
       "Dry           2778658\n",
       "Fine/Sunny      57523\n",
       "Mixed             156\n",
       "Unknown         99783\n",
       "Wet            306903\n",
       "Windy            2507\n",
       "Name: Total cycles, dtype: int64"
      ]
     },
     "execution_count": 32,
     "metadata": {},
     "output_type": "execute_result"
    }
   ],
   "source": [
    "# Distribution of cycling based on weather conditions for the new dataset\n",
    "weather_distribution_inner = cleaned_inner_london.groupby('Weather')['Total cycles'].sum()\n",
    "\n",
    "weather_distribution_inner"
   ]
  },
  {
   "cell_type": "code",
   "execution_count": 33,
   "id": "e2237e62",
   "metadata": {},
   "outputs": [
    {
     "data": {
      "text/plain": [
       "Number of private cycles      3105904\n",
       "Number of cycle hire bikes     140342\n",
       "dtype: int64"
      ]
     },
     "execution_count": 33,
     "metadata": {},
     "output_type": "execute_result"
    }
   ],
   "source": [
    "# Comparison between the usage of private cycles and cycle hire bikes for the new dataset\n",
    "private_vs_hire_inner = cleaned_inner_london[['Number of private cycles', 'Number of cycle hire bikes']].sum()\n",
    "\n",
    "private_vs_hire_inner"
   ]
  },
  {
   "cell_type": "code",
   "execution_count": 57,
   "id": "80a175ad",
   "metadata": {},
   "outputs": [
    {
     "data": {
      "image/png": "[encoded data removed]",
      "text/plain": [
       "<Figure size 900x500 with 1 Axes>"
      ]
     },
     "metadata": {},
     "output_type": "display_data"
    }
   ],
   "source": [
    "# Plotting the distribution of cycling based on weather conditions for the new dataset\n",
    "plt.figure(figsize=(9, 5))\n",
    "weather_distribution_inner.plot(kind='bar', color='blue')\n",
    "plt.title('Distribution of Total Cycles Based on Weather Conditions (Inner London)')\n",
    "plt.xlabel('Weather Condition')\n",
    "plt.ylabel('Total Number of Cycles')\n",
    "plt.xticks(rotation=45)\n",
    "plt.tight_layout() \n",
    "\n",
    "# Save the plot to a file\n",
    "plt.savefig('inner_london_weather_distribution_plot.png')\n",
    "\n",
    "# Show the plot\n",
    "plt.show()"
   ]
  },
  {
   "cell_type": "code",
   "execution_count": 58,
   "id": "ad338ba3",
   "metadata": {},
   "outputs": [
    {
     "data": {
      "image/png": "[encoded data removed]",
      "text/plain": [
       "<Figure size 900x500 with 1 Axes>"
      ]
     },
     "metadata": {},
     "output_type": "display_data"
    }
   ],
   "source": [
    "# Plotting the comparison between usage of private cycles and cycle hire bikes for the new dataset\n",
    "plt.figure(figsize=(9, 5))\n",
    "private_vs_hire_inner.plot(kind='bar', color=['green', 'orange'])\n",
    "plt.title('Comparison Between Usage of Private Cycles and Cycle Hire Bikes (Inner London)')\n",
    "plt.xlabel('Type of Cycles')\n",
    "plt.ylabel('Total Count')\n",
    "plt.xticks(rotation=0)\n",
    "plt.tight_layout()\n",
    "\n",
    "# Save the plot to a file\n",
    "plt.savefig('inner_london_private_vs_hire_inner_plot.png')\n",
    "\n",
    "# Show the plot\n",
    "plt.show()"
   ]
  },
  {
   "cell_type": "markdown",
   "id": "78606fe7",
   "metadata": {},
   "source": [
    "### Outer London "
   ]
  },
  {
   "cell_type": "code",
   "execution_count": 36,
   "id": "6a8fbb55",
   "metadata": {},
   "outputs": [
    {
     "data": {
      "text/html": [
       "<div>\n",
       "<style scoped>\n",
       "    .dataframe tbody tr th:only-of-type {\n",
       "        vertical-align: middle;\n",
       "    }\n",
       "\n",
       "    .dataframe tbody tr th {\n",
       "        vertical-align: top;\n",
       "    }\n",
       "\n",
       "    .dataframe thead th {\n",
       "        text-align: right;\n",
       "    }\n",
       "</style>\n",
       "<table border=\"1\" class=\"dataframe\">\n",
       "  <thead>\n",
       "    <tr style=\"text-align: right;\">\n",
       "      <th></th>\n",
       "      <th>Survey wave (year)</th>\n",
       "      <th>Site ID</th>\n",
       "      <th>Location</th>\n",
       "      <th>Weather</th>\n",
       "      <th>Time</th>\n",
       "      <th>Period</th>\n",
       "      <th>Direction</th>\n",
       "      <th>Start time</th>\n",
       "      <th>Number of male cycles</th>\n",
       "      <th>Number of female cycles</th>\n",
       "      <th>Number of unknown cycles</th>\n",
       "      <th>Total cycles</th>\n",
       "    </tr>\n",
       "  </thead>\n",
       "  <tbody>\n",
       "    <tr>\n",
       "      <th>0</th>\n",
       "      <td>2015</td>\n",
       "      <td>OUTCY001</td>\n",
       "      <td>High Road Leyton</td>\n",
       "      <td>Dry</td>\n",
       "      <td>0600 - 0615</td>\n",
       "      <td>Early Morning</td>\n",
       "      <td>Northbound</td>\n",
       "      <td>06:00</td>\n",
       "      <td>2</td>\n",
       "      <td>1</td>\n",
       "      <td>0</td>\n",
       "      <td>3</td>\n",
       "    </tr>\n",
       "    <tr>\n",
       "      <th>1</th>\n",
       "      <td>2015</td>\n",
       "      <td>OUTCY001</td>\n",
       "      <td>High Road Leyton</td>\n",
       "      <td>Dry</td>\n",
       "      <td>0615 - 0630</td>\n",
       "      <td>Early Morning</td>\n",
       "      <td>Northbound</td>\n",
       "      <td>06:15</td>\n",
       "      <td>3</td>\n",
       "      <td>0</td>\n",
       "      <td>0</td>\n",
       "      <td>3</td>\n",
       "    </tr>\n",
       "    <tr>\n",
       "      <th>2</th>\n",
       "      <td>2015</td>\n",
       "      <td>OUTCY001</td>\n",
       "      <td>High Road Leyton</td>\n",
       "      <td>Dry</td>\n",
       "      <td>0630 - 0645</td>\n",
       "      <td>Early Morning</td>\n",
       "      <td>Northbound</td>\n",
       "      <td>06:30</td>\n",
       "      <td>2</td>\n",
       "      <td>0</td>\n",
       "      <td>0</td>\n",
       "      <td>2</td>\n",
       "    </tr>\n",
       "    <tr>\n",
       "      <th>3</th>\n",
       "      <td>2015</td>\n",
       "      <td>OUTCY001</td>\n",
       "      <td>High Road Leyton</td>\n",
       "      <td>Dry</td>\n",
       "      <td>0645 - 0700</td>\n",
       "      <td>Early Morning</td>\n",
       "      <td>Northbound</td>\n",
       "      <td>06:45</td>\n",
       "      <td>4</td>\n",
       "      <td>0</td>\n",
       "      <td>0</td>\n",
       "      <td>4</td>\n",
       "    </tr>\n",
       "    <tr>\n",
       "      <th>4</th>\n",
       "      <td>2015</td>\n",
       "      <td>OUTCY001</td>\n",
       "      <td>High Road Leyton</td>\n",
       "      <td>Dry</td>\n",
       "      <td>0700 - 0715</td>\n",
       "      <td>AM peak</td>\n",
       "      <td>Northbound</td>\n",
       "      <td>07:00</td>\n",
       "      <td>4</td>\n",
       "      <td>1</td>\n",
       "      <td>0</td>\n",
       "      <td>5</td>\n",
       "    </tr>\n",
       "  </tbody>\n",
       "</table>\n",
       "</div>"
      ],
      "text/plain": [
       "   Survey wave (year)   Site ID          Location Weather         Time  \\\n",
       "0                2015  OUTCY001  High Road Leyton     Dry  0600 - 0615   \n",
       "1                2015  OUTCY001  High Road Leyton     Dry  0615 - 0630   \n",
       "2                2015  OUTCY001  High Road Leyton     Dry  0630 - 0645   \n",
       "3                2015  OUTCY001  High Road Leyton     Dry  0645 - 0700   \n",
       "4                2015  OUTCY001  High Road Leyton     Dry  0700 - 0715   \n",
       "\n",
       "          Period   Direction Start time  Number of male cycles  \\\n",
       "0  Early Morning  Northbound      06:00                      2   \n",
       "1  Early Morning  Northbound      06:15                      3   \n",
       "2  Early Morning  Northbound      06:30                      2   \n",
       "3  Early Morning  Northbound      06:45                      4   \n",
       "4        AM peak  Northbound      07:00                      4   \n",
       "\n",
       "   Number of female cycles  Number of unknown cycles  Total cycles  \n",
       "0                        1                         0             3  \n",
       "1                        0                         0             3  \n",
       "2                        0                         0             2  \n",
       "3                        0                         0             4  \n",
       "4                        1                         0             5  "
      ]
     },
     "execution_count": 36,
     "metadata": {},
     "output_type": "execute_result"
    }
   ],
   "source": [
    "# Load the dataset for outer London\n",
    "cleaned_outer_london = pd.read_csv('cleaned_outer_london.csv')\n",
    "\n",
    "#veiw the dataframe\n",
    "cleaned_outer_london.head()"
   ]
  },
  {
   "cell_type": "code",
   "execution_count": 37,
   "id": "3d41f0a3",
   "metadata": {},
   "outputs": [
    {
     "data": {
      "text/html": [
       "<div>\n",
       "<style scoped>\n",
       "    .dataframe tbody tr th:only-of-type {\n",
       "        vertical-align: middle;\n",
       "    }\n",
       "\n",
       "    .dataframe tbody tr th {\n",
       "        vertical-align: top;\n",
       "    }\n",
       "\n",
       "    .dataframe thead th {\n",
       "        text-align: right;\n",
       "    }\n",
       "</style>\n",
       "<table border=\"1\" class=\"dataframe\">\n",
       "  <thead>\n",
       "    <tr style=\"text-align: right;\">\n",
       "      <th></th>\n",
       "      <th>Survey wave (year)</th>\n",
       "      <th>Number of male cycles</th>\n",
       "      <th>Number of female cycles</th>\n",
       "      <th>Number of unknown cycles</th>\n",
       "      <th>Total cycles</th>\n",
       "    </tr>\n",
       "  </thead>\n",
       "  <tbody>\n",
       "    <tr>\n",
       "      <th>count</th>\n",
       "      <td>375660.000000</td>\n",
       "      <td>375660.000000</td>\n",
       "      <td>375660.000000</td>\n",
       "      <td>375660.000000</td>\n",
       "      <td>375660.000000</td>\n",
       "    </tr>\n",
       "    <tr>\n",
       "      <th>mean</th>\n",
       "      <td>2017.848267</td>\n",
       "      <td>1.335207</td>\n",
       "      <td>0.240646</td>\n",
       "      <td>0.013837</td>\n",
       "      <td>1.589695</td>\n",
       "    </tr>\n",
       "    <tr>\n",
       "      <th>std</th>\n",
       "      <td>1.993641</td>\n",
       "      <td>2.701113</td>\n",
       "      <td>0.751606</td>\n",
       "      <td>0.157072</td>\n",
       "      <td>3.165160</td>\n",
       "    </tr>\n",
       "    <tr>\n",
       "      <th>min</th>\n",
       "      <td>2015.000000</td>\n",
       "      <td>0.000000</td>\n",
       "      <td>0.000000</td>\n",
       "      <td>0.000000</td>\n",
       "      <td>0.000000</td>\n",
       "    </tr>\n",
       "    <tr>\n",
       "      <th>25%</th>\n",
       "      <td>2016.000000</td>\n",
       "      <td>0.000000</td>\n",
       "      <td>0.000000</td>\n",
       "      <td>0.000000</td>\n",
       "      <td>0.000000</td>\n",
       "    </tr>\n",
       "    <tr>\n",
       "      <th>50%</th>\n",
       "      <td>2018.000000</td>\n",
       "      <td>0.000000</td>\n",
       "      <td>0.000000</td>\n",
       "      <td>0.000000</td>\n",
       "      <td>0.000000</td>\n",
       "    </tr>\n",
       "    <tr>\n",
       "      <th>75%</th>\n",
       "      <td>2019.000000</td>\n",
       "      <td>2.000000</td>\n",
       "      <td>0.000000</td>\n",
       "      <td>0.000000</td>\n",
       "      <td>2.000000</td>\n",
       "    </tr>\n",
       "    <tr>\n",
       "      <th>max</th>\n",
       "      <td>2021.000000</td>\n",
       "      <td>62.000000</td>\n",
       "      <td>19.000000</td>\n",
       "      <td>13.000000</td>\n",
       "      <td>78.000000</td>\n",
       "    </tr>\n",
       "  </tbody>\n",
       "</table>\n",
       "</div>"
      ],
      "text/plain": [
       "       Survey wave (year)  Number of male cycles  Number of female cycles  \\\n",
       "count       375660.000000          375660.000000            375660.000000   \n",
       "mean          2017.848267               1.335207                 0.240646   \n",
       "std              1.993641               2.701113                 0.751606   \n",
       "min           2015.000000               0.000000                 0.000000   \n",
       "25%           2016.000000               0.000000                 0.000000   \n",
       "50%           2018.000000               0.000000                 0.000000   \n",
       "75%           2019.000000               2.000000                 0.000000   \n",
       "max           2021.000000              62.000000                19.000000   \n",
       "\n",
       "       Number of unknown cycles   Total cycles  \n",
       "count             375660.000000  375660.000000  \n",
       "mean                   0.013837       1.589695  \n",
       "std                    0.157072       3.165160  \n",
       "min                    0.000000       0.000000  \n",
       "25%                    0.000000       0.000000  \n",
       "50%                    0.000000       0.000000  \n",
       "75%                    0.000000       2.000000  \n",
       "max                   13.000000      78.000000  "
      ]
     },
     "execution_count": 37,
     "metadata": {},
     "output_type": "execute_result"
    }
   ],
   "source": [
    "# Descriptive statistics\n",
    "cleaned_outer_london.describe()"
   ]
  },
  {
   "cell_type": "code",
   "execution_count": 38,
   "id": "1e1d31e3",
   "metadata": {},
   "outputs": [
    {
     "data": {
      "text/plain": [
       "597185"
      ]
     },
     "execution_count": 38,
     "metadata": {},
     "output_type": "execute_result"
    }
   ],
   "source": [
    "# Total count of cycles for the new dataset\n",
    "total_cycles_count_outer = cleaned_outer_london['Total cycles'].sum()\n",
    "\n",
    "total_cycles_count_outer"
   ]
  },
  {
   "cell_type": "code",
   "execution_count": 39,
   "id": "8b623ce4",
   "metadata": {},
   "outputs": [
    {
     "data": {
      "text/plain": [
       "Period\n",
       "AM peak          2.158830\n",
       "Early Morning    1.232794\n",
       "Evening          1.207143\n",
       "Inter-peak       1.112798\n",
       "PM peak          2.475767\n",
       "Name: Total cycles, dtype: float64"
      ]
     },
     "execution_count": 39,
     "metadata": {},
     "output_type": "execute_result"
    }
   ],
   "source": [
    "# Average number of cycles per time period for the new dataset\n",
    "average_cycles_per_period_outer = cleaned_outer_london.groupby('Period')['Total cycles'].mean()\n",
    "\n",
    "average_cycles_per_period_outer\n"
   ]
  },
  {
   "cell_type": "code",
   "execution_count": 40,
   "id": "75323f1b",
   "metadata": {},
   "outputs": [
    {
     "data": {
      "text/plain": [
       "Weather\n",
       "Cold           12\n",
       "Dry        534945\n",
       "Mixed         114\n",
       "Sunny         309\n",
       "Wet         52017\n",
       "Windy           0\n",
       "unknown      9788\n",
       "Name: Total cycles, dtype: int64"
      ]
     },
     "execution_count": 40,
     "metadata": {},
     "output_type": "execute_result"
    }
   ],
   "source": [
    "# Distribution of cycling based on weather conditions for the new dataset\n",
    "weather_distribution_outer = cleaned_outer_london.groupby('Weather')['Total cycles'].sum()\n",
    "\n",
    "weather_distribution_outer"
   ]
  },
  {
   "cell_type": "code",
   "execution_count": null,
   "id": "9b9a1f91",
   "metadata": {},
   "outputs": [],
   "source": []
  },
  {
   "cell_type": "code",
   "execution_count": 59,
   "id": "3ead1e66",
   "metadata": {},
   "outputs": [
    {
     "data": {
      "image/png": "[encoded data removed]",
      "text/plain": [
       "<Figure size 800x400 with 1 Axes>"
      ]
     },
     "metadata": {},
     "output_type": "display_data"
    }
   ],
   "source": [
    "# Plotting the distribution of cycling based on weather conditions for the outer London dataset\n",
    "plt.figure(figsize=(8, 4))\n",
    "weather_distribution_outer.plot(kind='bar', color='lightgreen')\n",
    "plt.title('Distribution of Total Cycles Based on Weather Conditions (Outer London)')\n",
    "plt.xlabel('Weather Condition')\n",
    "plt.ylabel('Total Number of Cycles')\n",
    "plt.xticks(rotation=45)\n",
    "plt.tight_layout()  \n",
    "\n",
    "# Save the plot to a file\n",
    "plt.savefig('Outer_london_weather_distribution_plot.png')\n",
    "\n",
    "# Show the plot\n",
    "plt.show()"
   ]
  },
  {
   "cell_type": "code",
   "execution_count": 42,
   "id": "22eeb099",
   "metadata": {},
   "outputs": [
    {
     "data": {
      "text/plain": [
       "Number of male cycles      501584\n",
       "Number of female cycles     90401\n",
       "dtype: int64"
      ]
     },
     "execution_count": 42,
     "metadata": {},
     "output_type": "execute_result"
    }
   ],
   "source": [
    "# comparison of male and female cyclists for the outer London dataset\n",
    "gender_comparison_outer = cleaned_outer_london[['Number of male cycles', 'Number of female cycles']].sum()\n",
    "\n",
    "\n",
    "gender_comparison_outer"
   ]
  },
  {
   "cell_type": "code",
   "execution_count": 60,
   "id": "421152e1",
   "metadata": {},
   "outputs": [
    {
     "data": {
      "image/png": "[encoded data removed]",
      "text/plain": [
       "<Figure size 800x400 with 1 Axes>"
      ]
     },
     "metadata": {},
     "output_type": "display_data"
    }
   ],
   "source": [
    "# Plotting the comparison of male and female cyclists for the outer London dataset\n",
    "plt.figure(figsize=(8, 4))\n",
    "gender_comparison_outer.plot(kind='bar', color=['blue', 'magenta'])\n",
    "plt.title('Comparison of Male and Female Cyclists (Outer London)')\n",
    "plt.xlabel('Gender')\n",
    "plt.ylabel('Total Count')\n",
    "plt.xticks(rotation=0)\n",
    "plt.tight_layout()  \n",
    "\n",
    "# Save the plot to a file\n",
    "plt.savefig('gender_comparison_plot.png')\n",
    "\n",
    "# Show the plot for gender comparison\n",
    "plt.show()"
   ]
  },
  {
   "cell_type": "markdown",
   "id": "4a078678",
   "metadata": {},
   "source": [
    "### Combine the dataframes "
   ]
  },
  {
   "cell_type": "code",
   "execution_count": 44,
   "id": "4b75da52",
   "metadata": {},
   "outputs": [
    {
     "data": {
      "text/html": [
       "<div>\n",
       "<style scoped>\n",
       "    .dataframe tbody tr th:only-of-type {\n",
       "        vertical-align: middle;\n",
       "    }\n",
       "\n",
       "    .dataframe tbody tr th {\n",
       "        vertical-align: top;\n",
       "    }\n",
       "\n",
       "    .dataframe thead th {\n",
       "        text-align: right;\n",
       "    }\n",
       "</style>\n",
       "<table border=\"1\" class=\"dataframe\">\n",
       "  <thead>\n",
       "    <tr style=\"text-align: right;\">\n",
       "      <th></th>\n",
       "      <th>Survey wave (calendar quarter)</th>\n",
       "      <th>Equivalent financial quarter</th>\n",
       "      <th>Site ID</th>\n",
       "      <th>Location</th>\n",
       "      <th>Survey_date</th>\n",
       "      <th>Survey_weekday</th>\n",
       "      <th>Weather</th>\n",
       "      <th>Time</th>\n",
       "      <th>Period</th>\n",
       "      <th>Direction</th>\n",
       "      <th>Start time</th>\n",
       "      <th>Number of private cycles</th>\n",
       "      <th>Number of cycle hire bikes</th>\n",
       "      <th>Total cycles</th>\n",
       "      <th>Survey wave (year)</th>\n",
       "      <th>Number of male cycles</th>\n",
       "      <th>Number of female cycles</th>\n",
       "      <th>Number of unknown cycles</th>\n",
       "    </tr>\n",
       "  </thead>\n",
       "  <tbody>\n",
       "    <tr>\n",
       "      <th>0</th>\n",
       "      <td>2014 Q1 (January-March)</td>\n",
       "      <td>2013-14 Q4</td>\n",
       "      <td>CENCY001</td>\n",
       "      <td>Millbank (south of Thorney Street)</td>\n",
       "      <td>24/01/14</td>\n",
       "      <td>Friday</td>\n",
       "      <td>Dry</td>\n",
       "      <td>0600 - 0615</td>\n",
       "      <td>Early Morning</td>\n",
       "      <td>Northbound</td>\n",
       "      <td>06:00</td>\n",
       "      <td>0.0</td>\n",
       "      <td>0.0</td>\n",
       "      <td>0</td>\n",
       "      <td>NaN</td>\n",
       "      <td>NaN</td>\n",
       "      <td>NaN</td>\n",
       "      <td>NaN</td>\n",
       "    </tr>\n",
       "    <tr>\n",
       "      <th>1</th>\n",
       "      <td>2014 Q1 (January-March)</td>\n",
       "      <td>2013-14 Q4</td>\n",
       "      <td>CENCY001</td>\n",
       "      <td>Millbank (south of Thorney Street)</td>\n",
       "      <td>24/01/14</td>\n",
       "      <td>Friday</td>\n",
       "      <td>Dry</td>\n",
       "      <td>0615 - 0630</td>\n",
       "      <td>Early Morning</td>\n",
       "      <td>Northbound</td>\n",
       "      <td>06:15</td>\n",
       "      <td>15.0</td>\n",
       "      <td>0.0</td>\n",
       "      <td>15</td>\n",
       "      <td>NaN</td>\n",
       "      <td>NaN</td>\n",
       "      <td>NaN</td>\n",
       "      <td>NaN</td>\n",
       "    </tr>\n",
       "    <tr>\n",
       "      <th>2</th>\n",
       "      <td>2014 Q1 (January-March)</td>\n",
       "      <td>2013-14 Q4</td>\n",
       "      <td>CENCY001</td>\n",
       "      <td>Millbank (south of Thorney Street)</td>\n",
       "      <td>24/01/14</td>\n",
       "      <td>Friday</td>\n",
       "      <td>Dry</td>\n",
       "      <td>0630 - 0645</td>\n",
       "      <td>Early Morning</td>\n",
       "      <td>Northbound</td>\n",
       "      <td>06:30</td>\n",
       "      <td>35.0</td>\n",
       "      <td>0.0</td>\n",
       "      <td>35</td>\n",
       "      <td>NaN</td>\n",
       "      <td>NaN</td>\n",
       "      <td>NaN</td>\n",
       "      <td>NaN</td>\n",
       "    </tr>\n",
       "    <tr>\n",
       "      <th>3</th>\n",
       "      <td>2014 Q1 (January-March)</td>\n",
       "      <td>2013-14 Q4</td>\n",
       "      <td>CENCY001</td>\n",
       "      <td>Millbank (south of Thorney Street)</td>\n",
       "      <td>24/01/14</td>\n",
       "      <td>Friday</td>\n",
       "      <td>Dry</td>\n",
       "      <td>0645 - 0700</td>\n",
       "      <td>Early Morning</td>\n",
       "      <td>Northbound</td>\n",
       "      <td>06:45</td>\n",
       "      <td>59.0</td>\n",
       "      <td>2.0</td>\n",
       "      <td>61</td>\n",
       "      <td>NaN</td>\n",
       "      <td>NaN</td>\n",
       "      <td>NaN</td>\n",
       "      <td>NaN</td>\n",
       "    </tr>\n",
       "    <tr>\n",
       "      <th>4</th>\n",
       "      <td>2014 Q1 (January-March)</td>\n",
       "      <td>2013-14 Q4</td>\n",
       "      <td>CENCY001</td>\n",
       "      <td>Millbank (south of Thorney Street)</td>\n",
       "      <td>24/01/14</td>\n",
       "      <td>Friday</td>\n",
       "      <td>Dry</td>\n",
       "      <td>0700 - 0715</td>\n",
       "      <td>AM peak</td>\n",
       "      <td>Northbound</td>\n",
       "      <td>07:00</td>\n",
       "      <td>73.0</td>\n",
       "      <td>0.0</td>\n",
       "      <td>73</td>\n",
       "      <td>NaN</td>\n",
       "      <td>NaN</td>\n",
       "      <td>NaN</td>\n",
       "      <td>NaN</td>\n",
       "    </tr>\n",
       "    <tr>\n",
       "      <th>...</th>\n",
       "      <td>...</td>\n",
       "      <td>...</td>\n",
       "      <td>...</td>\n",
       "      <td>...</td>\n",
       "      <td>...</td>\n",
       "      <td>...</td>\n",
       "      <td>...</td>\n",
       "      <td>...</td>\n",
       "      <td>...</td>\n",
       "      <td>...</td>\n",
       "      <td>...</td>\n",
       "      <td>...</td>\n",
       "      <td>...</td>\n",
       "      <td>...</td>\n",
       "      <td>...</td>\n",
       "      <td>...</td>\n",
       "      <td>...</td>\n",
       "      <td>...</td>\n",
       "    </tr>\n",
       "    <tr>\n",
       "      <th>1657594</th>\n",
       "      <td>NaN</td>\n",
       "      <td>NaN</td>\n",
       "      <td>OUTCY451</td>\n",
       "      <td>Thames Path (Lower Ham Road)</td>\n",
       "      <td>NaN</td>\n",
       "      <td>NaN</td>\n",
       "      <td>Wet</td>\n",
       "      <td>2045 - 2100</td>\n",
       "      <td>Evening</td>\n",
       "      <td>Southbound</td>\n",
       "      <td>20:45</td>\n",
       "      <td>NaN</td>\n",
       "      <td>NaN</td>\n",
       "      <td>1</td>\n",
       "      <td>2021.0</td>\n",
       "      <td>1.0</td>\n",
       "      <td>0.0</td>\n",
       "      <td>0.0</td>\n",
       "    </tr>\n",
       "    <tr>\n",
       "      <th>1657595</th>\n",
       "      <td>NaN</td>\n",
       "      <td>NaN</td>\n",
       "      <td>OUTCY451</td>\n",
       "      <td>Thames Path (Lower Ham Road)</td>\n",
       "      <td>NaN</td>\n",
       "      <td>NaN</td>\n",
       "      <td>Wet</td>\n",
       "      <td>2100 - 2115</td>\n",
       "      <td>Evening</td>\n",
       "      <td>Southbound</td>\n",
       "      <td>21:00</td>\n",
       "      <td>NaN</td>\n",
       "      <td>NaN</td>\n",
       "      <td>2</td>\n",
       "      <td>2021.0</td>\n",
       "      <td>2.0</td>\n",
       "      <td>0.0</td>\n",
       "      <td>0.0</td>\n",
       "    </tr>\n",
       "    <tr>\n",
       "      <th>1657596</th>\n",
       "      <td>NaN</td>\n",
       "      <td>NaN</td>\n",
       "      <td>OUTCY451</td>\n",
       "      <td>Thames Path (Lower Ham Road)</td>\n",
       "      <td>NaN</td>\n",
       "      <td>NaN</td>\n",
       "      <td>Wet</td>\n",
       "      <td>2115 - 2130</td>\n",
       "      <td>Evening</td>\n",
       "      <td>Southbound</td>\n",
       "      <td>21:15</td>\n",
       "      <td>NaN</td>\n",
       "      <td>NaN</td>\n",
       "      <td>0</td>\n",
       "      <td>2021.0</td>\n",
       "      <td>0.0</td>\n",
       "      <td>0.0</td>\n",
       "      <td>0.0</td>\n",
       "    </tr>\n",
       "    <tr>\n",
       "      <th>1657597</th>\n",
       "      <td>NaN</td>\n",
       "      <td>NaN</td>\n",
       "      <td>OUTCY451</td>\n",
       "      <td>Thames Path (Lower Ham Road)</td>\n",
       "      <td>NaN</td>\n",
       "      <td>NaN</td>\n",
       "      <td>Wet</td>\n",
       "      <td>2130 - 2145</td>\n",
       "      <td>Evening</td>\n",
       "      <td>Southbound</td>\n",
       "      <td>21:30</td>\n",
       "      <td>NaN</td>\n",
       "      <td>NaN</td>\n",
       "      <td>0</td>\n",
       "      <td>2021.0</td>\n",
       "      <td>0.0</td>\n",
       "      <td>0.0</td>\n",
       "      <td>0.0</td>\n",
       "    </tr>\n",
       "    <tr>\n",
       "      <th>1657598</th>\n",
       "      <td>NaN</td>\n",
       "      <td>NaN</td>\n",
       "      <td>OUTCY451</td>\n",
       "      <td>Thames Path (Lower Ham Road)</td>\n",
       "      <td>NaN</td>\n",
       "      <td>NaN</td>\n",
       "      <td>Wet</td>\n",
       "      <td>2145 - 2200</td>\n",
       "      <td>Evening</td>\n",
       "      <td>Southbound</td>\n",
       "      <td>21:45</td>\n",
       "      <td>NaN</td>\n",
       "      <td>NaN</td>\n",
       "      <td>1</td>\n",
       "      <td>2021.0</td>\n",
       "      <td>1.0</td>\n",
       "      <td>0.0</td>\n",
       "      <td>0.0</td>\n",
       "    </tr>\n",
       "  </tbody>\n",
       "</table>\n",
       "<p>1657599 rows × 18 columns</p>\n",
       "</div>"
      ],
      "text/plain": [
       "        Survey wave (calendar quarter) Equivalent financial quarter   Site ID  \\\n",
       "0              2014 Q1 (January-March)                   2013-14 Q4  CENCY001   \n",
       "1              2014 Q1 (January-March)                   2013-14 Q4  CENCY001   \n",
       "2              2014 Q1 (January-March)                   2013-14 Q4  CENCY001   \n",
       "3              2014 Q1 (January-March)                   2013-14 Q4  CENCY001   \n",
       "4              2014 Q1 (January-March)                   2013-14 Q4  CENCY001   \n",
       "...                                ...                          ...       ...   \n",
       "1657594                            NaN                          NaN  OUTCY451   \n",
       "1657595                            NaN                          NaN  OUTCY451   \n",
       "1657596                            NaN                          NaN  OUTCY451   \n",
       "1657597                            NaN                          NaN  OUTCY451   \n",
       "1657598                            NaN                          NaN  OUTCY451   \n",
       "\n",
       "                                   Location Survey_date Survey_weekday  \\\n",
       "0        Millbank (south of Thorney Street)    24/01/14         Friday   \n",
       "1        Millbank (south of Thorney Street)    24/01/14         Friday   \n",
       "2        Millbank (south of Thorney Street)    24/01/14         Friday   \n",
       "3        Millbank (south of Thorney Street)    24/01/14         Friday   \n",
       "4        Millbank (south of Thorney Street)    24/01/14         Friday   \n",
       "...                                     ...         ...            ...   \n",
       "1657594        Thames Path (Lower Ham Road)         NaN            NaN   \n",
       "1657595        Thames Path (Lower Ham Road)         NaN            NaN   \n",
       "1657596        Thames Path (Lower Ham Road)         NaN            NaN   \n",
       "1657597        Thames Path (Lower Ham Road)         NaN            NaN   \n",
       "1657598        Thames Path (Lower Ham Road)         NaN            NaN   \n",
       "\n",
       "        Weather         Time         Period   Direction Start time  \\\n",
       "0           Dry  0600 - 0615  Early Morning  Northbound      06:00   \n",
       "1           Dry  0615 - 0630  Early Morning  Northbound      06:15   \n",
       "2           Dry  0630 - 0645  Early Morning  Northbound      06:30   \n",
       "3           Dry  0645 - 0700  Early Morning  Northbound      06:45   \n",
       "4           Dry  0700 - 0715        AM peak  Northbound      07:00   \n",
       "...         ...          ...            ...         ...        ...   \n",
       "1657594     Wet  2045 - 2100        Evening  Southbound      20:45   \n",
       "1657595     Wet  2100 - 2115        Evening  Southbound      21:00   \n",
       "1657596     Wet  2115 - 2130        Evening  Southbound      21:15   \n",
       "1657597     Wet  2130 - 2145        Evening  Southbound      21:30   \n",
       "1657598     Wet  2145 - 2200        Evening  Southbound      21:45   \n",
       "\n",
       "         Number of private cycles  Number of cycle hire bikes  Total cycles  \\\n",
       "0                             0.0                         0.0             0   \n",
       "1                            15.0                         0.0            15   \n",
       "2                            35.0                         0.0            35   \n",
       "3                            59.0                         2.0            61   \n",
       "4                            73.0                         0.0            73   \n",
       "...                           ...                         ...           ...   \n",
       "1657594                       NaN                         NaN             1   \n",
       "1657595                       NaN                         NaN             2   \n",
       "1657596                       NaN                         NaN             0   \n",
       "1657597                       NaN                         NaN             0   \n",
       "1657598                       NaN                         NaN             1   \n",
       "\n",
       "         Survey wave (year)  Number of male cycles  Number of female cycles  \\\n",
       "0                       NaN                    NaN                      NaN   \n",
       "1                       NaN                    NaN                      NaN   \n",
       "2                       NaN                    NaN                      NaN   \n",
       "3                       NaN                    NaN                      NaN   \n",
       "4                       NaN                    NaN                      NaN   \n",
       "...                     ...                    ...                      ...   \n",
       "1657594              2021.0                    1.0                      0.0   \n",
       "1657595              2021.0                    2.0                      0.0   \n",
       "1657596              2021.0                    0.0                      0.0   \n",
       "1657597              2021.0                    0.0                      0.0   \n",
       "1657598              2021.0                    1.0                      0.0   \n",
       "\n",
       "         Number of unknown cycles  \n",
       "0                             NaN  \n",
       "1                             NaN  \n",
       "2                             NaN  \n",
       "3                             NaN  \n",
       "4                             NaN  \n",
       "...                           ...  \n",
       "1657594                       0.0  \n",
       "1657595                       0.0  \n",
       "1657596                       0.0  \n",
       "1657597                       0.0  \n",
       "1657598                       0.0  \n",
       "\n",
       "[1657599 rows x 18 columns]"
      ]
     },
     "execution_count": 44,
     "metadata": {},
     "output_type": "execute_result"
    }
   ],
   "source": [
    "# Concatenate all three dataframes into one\n",
    "london_combined = pd.concat([clean_central_london, cleaned_inner_london, cleaned_outer_london], ignore_index=True)\n",
    "\n",
    "# Display the first few rows of the combined dataframe\n",
    "london_combined"
   ]
  },
  {
   "cell_type": "code",
   "execution_count": 45,
   "id": "db7e0031",
   "metadata": {},
   "outputs": [
    {
     "name": "stdout",
     "output_type": "stream",
     "text": [
      "<class 'pandas.core.frame.DataFrame'>\n",
      "RangeIndex: 1657599 entries, 0 to 1657598\n",
      "Data columns (total 18 columns):\n",
      " #   Column                          Non-Null Count    Dtype  \n",
      "---  ------                          --------------    -----  \n",
      " 0   Survey wave (calendar quarter)  758163 non-null   object \n",
      " 1   Equivalent financial quarter    758163 non-null   object \n",
      " 2   Site ID                         1657599 non-null  object \n",
      " 3   Location                        1657599 non-null  object \n",
      " 4   Survey_date                     1281939 non-null  object \n",
      " 5   Survey_weekday                  1281939 non-null  object \n",
      " 6   Weather                         1657599 non-null  object \n",
      " 7   Time                            1657599 non-null  object \n",
      " 8   Period                          1657599 non-null  object \n",
      " 9   Direction                       1657599 non-null  object \n",
      " 10  Start time                      1657599 non-null  object \n",
      " 11  Number of private cycles        1281939 non-null  float64\n",
      " 12  Number of cycle hire bikes      1281939 non-null  float64\n",
      " 13  Total cycles                    1657599 non-null  int64  \n",
      " 14  Survey wave (year)              899436 non-null   float64\n",
      " 15  Number of male cycles           375660 non-null   float64\n",
      " 16  Number of female cycles         375660 non-null   float64\n",
      " 17  Number of unknown cycles        375660 non-null   float64\n",
      "dtypes: float64(6), int64(1), object(11)\n",
      "memory usage: 227.6+ MB\n"
     ]
    }
   ],
   "source": [
    "london_combined.info()"
   ]
  },
  {
   "cell_type": "code",
   "execution_count": 46,
   "id": "7b44f94a",
   "metadata": {},
   "outputs": [
    {
     "data": {
      "text/plain": [
       "Survey wave (calendar quarter)     899436\n",
       "Equivalent financial quarter       899436\n",
       "Survey_date                        375660\n",
       "Survey_weekday                     375660\n",
       "Number of private cycles           375660\n",
       "Number of cycle hire bikes         375660\n",
       "Survey wave (year)                 758163\n",
       "Number of male cycles             1281939\n",
       "Number of female cycles           1281939\n",
       "Number of unknown cycles          1281939\n",
       "dtype: int64"
      ]
     },
     "execution_count": 46,
     "metadata": {},
     "output_type": "execute_result"
    }
   ],
   "source": [
    "# Identify columns with NaN values along with the count of NaNs in each of those columns\n",
    "nan_columns_count = london_combined.isna().sum()\n",
    "\n",
    "# Filter out columns that have any NaN values\n",
    "nan_columns_with_count = nan_columns_count[nan_columns_count > 0]\n",
    "\n",
    "nan_columns_with_count"
   ]
  },
  {
   "cell_type": "code",
   "execution_count": 47,
   "id": "a31542dd",
   "metadata": {},
   "outputs": [
    {
     "data": {
      "text/plain": [
       "(1531480    Monks Orchard Road\n",
       " 839946            King's Road\n",
       " 421623            Fetter Lane\n",
       " 1262302           Bowen Drive\n",
       " 1382023             The Glade\n",
       " Name: Location, dtype: object,\n",
       " 1531480    OUTCY146\n",
       " 839946     INNCY042\n",
       " 421623     CENCY067\n",
       " 1262302    INNCY469\n",
       " 1382023    OUTCY331\n",
       " Name: Site ID, dtype: object)"
      ]
     },
     "execution_count": 47,
     "metadata": {},
     "output_type": "execute_result"
    }
   ],
   "source": [
    "# Extract a sample of 'Location' column values\n",
    "location_sample = london_combined['Location'].sample(5, random_state=1)\n",
    "\n",
    "# Extract a sample of 'Site ID' column values\n",
    "site_id_sample = london_combined['Site ID'].sample(5, random_state=1)\n",
    "\n",
    "location_sample, site_id_sample"
   ]
  },
  {
   "cell_type": "code",
   "execution_count": 48,
   "id": "487e15a7",
   "metadata": {
    "scrolled": true
   },
   "outputs": [
    {
     "name": "stdout",
     "output_type": "stream",
     "text": [
      "Total cycles in Central London: 12625719\n"
     ]
    }
   ],
   "source": [
    "# Use location ID for central/ outer / london to determine most journeys completed. \n",
    "\n",
    "# Filter the dataframe based on 'Site ID' column\n",
    "central_london = london_combined[london_combined['Site ID'].str.startswith('CENCY')]\n",
    "\n",
    "# Calculate the sum of 'Total cycles' for each region\n",
    "total_cycles_central = central_london['Total cycles'].sum()\n",
    "\n",
    "# view the results\n",
    "print(f\"Total cycles in Central London: {total_cycles_central}\")"
   ]
  },
  {
   "cell_type": "code",
   "execution_count": 49,
   "id": "fb7b9718",
   "metadata": {},
   "outputs": [
    {
     "name": "stdout",
     "output_type": "stream",
     "text": [
      "Total cycles in Inner London: 3245530\n"
     ]
    }
   ],
   "source": [
    "# Inner London\n",
    "inner_london = london_combined[london_combined['Site ID'].str.startswith('INNCY')]\n",
    "\n",
    "total_cycles_inner = inner_london['Total cycles'].sum()\n",
    "\n",
    "#view the results\n",
    "print(f\"Total cycles in Inner London: {total_cycles_inner}\")"
   ]
  },
  {
   "cell_type": "code",
   "execution_count": 50,
   "id": "8267e7db",
   "metadata": {},
   "outputs": [
    {
     "name": "stdout",
     "output_type": "stream",
     "text": [
      "Total cycles in Outer London: 597185\n"
     ]
    }
   ],
   "source": [
    "# Outer London\n",
    "total_cycles_outer = outer_london['Total cycles'].sum()\n",
    "\n",
    "outer_london = london_combined[london_combined['Site ID'].str.startswith('OUTCY')]\n",
    "\n",
    "print(f\"Total cycles in Outer London: {total_cycles_outer}\")"
   ]
  },
  {
   "cell_type": "code",
   "execution_count": 61,
   "id": "adcefa18",
   "metadata": {},
   "outputs": [
    {
     "data": {
      "image/png": "[encoded data removed]",
      "text/plain": [
       "<Figure size 900x500 with 1 Axes>"
      ]
     },
     "metadata": {},
     "output_type": "display_data"
    }
   ],
   "source": [
    "# Visualisation of journeys completed for inner, outer & central london\n",
    "regions = ['Central London', 'Inner London', 'Outer London']\n",
    "total_cycles = [total_cycles_central, total_cycles_inner, total_cycles_outer]\n",
    "\n",
    "# Create a bar chart\n",
    "plt.figure(figsize=(9, 5))\n",
    "plt.bar(regions, total_cycles, color=['blue', 'green', 'red'])\n",
    "\n",
    "# Add titles and labels\n",
    "plt.title('Total Cycles in London by Region')\n",
    "plt.xlabel('Region')\n",
    "plt.ylabel('Total Cycles')\n",
    "plt.grid(axis='y', which='both')\n",
    "\n",
    "# Save the plot to a file\n",
    "plt.savefig('total_cycles_london_plot.png')\n",
    "\n",
    "# Display the plot\n",
    "plt.show()"
   ]
  },
  {
   "cell_type": "code",
   "execution_count": 62,
   "id": "30419de9",
   "metadata": {},
   "outputs": [
    {
     "data": {
      "image/png": "[encoded data removed]",
      "text/plain": [
       "<Figure size 800x800 with 1 Axes>"
      ]
     },
     "metadata": {},
     "output_type": "display_data"
    }
   ],
   "source": [
    "# Trying a different approach: using a pie chart to visualize the data\n",
    "\n",
    "# Data for plotting\n",
    "regions = ['Central London', 'Inner London', 'Outer London']\n",
    "total_cycles = [total_cycles_central, total_cycles_inner, total_cycles_outer]\n",
    "\n",
    "# Create a pie chart\n",
    "plt.figure(figsize=(8, 8))\n",
    "plt.pie(total_cycles, labels=regions, autopct='%2.2f%%', startangle=140, colors=['blue', 'green', 'red'])\n",
    "\n",
    "# Add a title\n",
    "plt.title('Total Cycles in London by Region')\n",
    "\n",
    "# Save the plot to a file\n",
    "plt.savefig('total_cycles_london_pie_plot.png')\n",
    "\n",
    "# Display the plot\n",
    "plt.show()"
   ]
  },
  {
   "cell_type": "code",
   "execution_count": null,
   "id": "be3c04f7",
   "metadata": {},
   "outputs": [],
   "source": []
  }
 ],
 "metadata": {
  "kernelspec": {
   "display_name": "Python 3 (ipykernel)",
   "language": "python",
   "name": "python3"
  },
  "language_info": {
   "codemirror_mode": {
    "name": "ipython",
    "version": 3
   },
   "file_extension": ".py",
   "mimetype": "text/x-python",
   "name": "python",
   "nbconvert_exporter": "python",
   "pygments_lexer": "ipython3",
   "version": "3.10.13"
  }
 },
 "nbformat": 4,
 "nbformat_minor": 5
}
